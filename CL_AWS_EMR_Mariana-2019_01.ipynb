{
 "cells": [
  {
   "cell_type": "markdown",
   "metadata": {
    "jp-MarkdownHeadingCollapsed": true,
    "tags": []
   },
   "source": [
    "<center>\n",
    "<img src=\"https://laelgelcpublic.s3.sa-east-1.amazonaws.com/lael_50_years_narrow_white.png.no_years.400px_96dpi.png\" width=\"300\" alt=\"LAEL 50 years logo\">\n",
    "<h3>APPLIED LINGUISTICS GRADUATE PROGRAMME (LAEL)</h3>\n",
    "</center>\n",
    "<hr>"
   ]
  },
  {
   "cell_type": "markdown",
   "metadata": {},
   "source": [
    "# Data extraction solution for Mariana's research project"
   ]
  },
  {
   "cell_type": "markdown",
   "metadata": {},
   "source": [
    "## Aims"
   ]
  },
  {
   "cell_type": "markdown",
   "metadata": {},
   "source": [
    "Mariana's research project's provisional title is: *Discurso infodêmico xenofóbico e aporofóbico em torno dos venezuelanos migrantes e refugiados: um estudo multidimensional lexical baseado em corpus*\n",
    "\n",
    "The proposed solution is aimed at extracting X tweets from 'The Twitter Grab 2019 Corpus' (Internet Archive) dataset. We will consider the archives from year 2019 initially and then extend to the target period ranging from 2015 to 2023.\n",
    "\n",
    "The archives are going to be filtered by the tweet field 'entities.hashtags.text' for hashtags and by the field 'text' for expressions. Due to technical reasons, the analysis of **hashtags** is case-sensitive. Therefore, the most common case combinations must be coded. This restriction does not affect the **expressions**.\n",
    "\n",
    "**Hashtags**\n",
    "- chavista\n",
    "- FueraVenecos\n",
    "- migrantevenezolano\n",
    "- portugalvenezuela\n",
    "- prayforvenezuela\n",
    "- refugiadovenezolano\n",
    "- transperuzolano\n",
    "- veneca\n",
    "- veneco\n",
    "- Venecobardes\n",
    "- venezolana\n",
    "- venezolandia\n",
    "- venezolano\n",
    "- venezolanodemierda\n",
    "- venezolanoshijosdeputa\n",
    "- venezuela\n",
    "- venezuelaenlacalle\n",
    "- venezuelazo\n",
    "- venezuelazuela\n",
    "\n",
    "**Expressions**\n",
    "- Caraqueño\n",
    "- Chaveta veneco\n",
    "- Criollo veneco\n",
    "- Guarimbeiros\n",
    "- Parasitos venezolanos\n",
    "- Refugiados de la miseria venezuela\n",
    "- Sudaca venezolano\n",
    "- Venecao\n",
    "- Veneccio\n",
    "- Venepobre\n",
    "- Veneputas\n"
   ]
  },
  {
   "cell_type": "markdown",
   "metadata": {},
   "source": [
    "## Extract data with an Amazon EMR Apache Spark cluster"
   ]
  },
  {
   "cell_type": "markdown",
   "metadata": {},
   "source": [
    "### Load data into an Amazon EMR EMR Apache Spark DataFrame"
   ]
  },
  {
   "cell_type": "markdown",
   "metadata": {},
   "source": [
    "Adjust the data source accordingly."
   ]
  },
  {
   "cell_type": "code",
   "execution_count": 1,
   "metadata": {
    "execution": {
     "iopub.execute_input": "2023-12-19T22:06:09.935410Z",
     "iopub.status.busy": "2023-12-19T22:06:09.935074Z",
     "iopub.status.idle": "2023-12-19T23:07:28.451440Z",
     "shell.execute_reply": "2023-12-19T23:07:28.450617Z",
     "shell.execute_reply.started": "2023-12-19T22:06:09.935380Z"
    },
    "tags": []
   },
   "outputs": [
    {
     "data": {
      "application/vnd.jupyter.widget-view+json": {
       "model_id": "8e7ba15b130148f5b213c697a34b2f76",
       "version_major": 2,
       "version_minor": 0
      },
      "text/plain": [
       "VBox()"
      ]
     },
     "metadata": {},
     "output_type": "display_data"
    },
    {
     "name": "stdout",
     "output_type": "stream",
     "text": [
      "Starting Spark application\n"
     ]
    },
    {
     "data": {
      "text/html": [
       "<table>\n<tbody><tr><th>ID</th><th>YARN Application ID</th><th>Kind</th><th>State</th><th>Spark UI</th><th>Driver log</th><th>User</th><th>Current session?</th></tr><tr><td>3</td><td>application_1703016195510_0004</td><td>pyspark</td><td>idle</td><td><a target=\"_blank\" href=\"http://ip-172-31-34-100.sa-east-1.compute.internal:20888/proxy/application_1703016195510_0004/\" class=\"emr-proxy-link j-1SOILRYEMY54N application_1703016195510_0004\" emr-resource=\"j-1SOILRYEMY54N\n\" application-id=\"application_1703016195510_0004\">Link</a></td><td><a target=\"_blank\" href=\"http://ip-172-31-32-199.sa-east-1.compute.internal:8042/node/containerlogs/container_1703016195510_0004_01_000001/livy\">Link</a></td><td>None</td><td>✔</td></tr></tbody></table>"
      ],
      "text/plain": [
       "<IPython.core.display.HTML object>"
      ]
     },
     "metadata": {},
     "output_type": "display_data"
    },
    {
     "data": {
      "application/vnd.jupyter.widget-view+json": {
       "model_id": "",
       "version_major": 2,
       "version_minor": 0
      },
      "text/plain": [
       "FloatProgress(value=0.0, bar_style='info', description='Progress:', layout=Layout(height='25px', width='50%'),…"
      ]
     },
     "metadata": {},
     "output_type": "display_data"
    },
    {
     "name": "stdout",
     "output_type": "stream",
     "text": [
      "SparkSession available as 'spark'.\n"
     ]
    },
    {
     "data": {
      "application/vnd.jupyter.widget-view+json": {
       "model_id": "",
       "version_major": 2,
       "version_minor": 0
      },
      "text/plain": [
       "FloatProgress(value=0.0, bar_style='info', description='Progress:', layout=Layout(height='25px', width='50%'),…"
      ]
     },
     "metadata": {},
     "output_type": "display_data"
    }
   ],
   "source": [
    "from pyspark.sql import SparkSession\n",
    "\n",
    "# Create a SparkSession\n",
    "spark = SparkSession.builder.appName('The Twitter Grab 2019 Corpus').getOrCreate()\n",
    "\n",
    "# Set the S3 bucket and folder paths\n",
    "source_bucket = 'gelctweets'\n",
    "year = '2019'\n",
    "month = '01'\n",
    "data_source = 's3://' + source_bucket + '/' + year + '_' + month + '/*/*/*/*.json'\n",
    "#data_source = 's3://' + source_bucket + '/' + year + '_' + month + '/01/00/29.json.bz2/*.json'\n",
    "\n",
    "# Read the JSONL files into a DataFrame\n",
    "tweets_spark_df = spark.read.json(data_source)\n"
   ]
  },
  {
   "cell_type": "code",
   "execution_count": 2,
   "metadata": {
    "execution": {
     "iopub.execute_input": "2023-12-19T23:21:01.761348Z",
     "iopub.status.busy": "2023-12-19T23:21:01.761125Z",
     "iopub.status.idle": "2023-12-19T23:21:15.033948Z",
     "shell.execute_reply": "2023-12-19T23:21:15.033238Z",
     "shell.execute_reply.started": "2023-12-19T23:21:01.761324Z"
    }
   },
   "outputs": [
    {
     "data": {
      "application/vnd.jupyter.widget-view+json": {
       "model_id": "afcf5da0c74a4b798eda155b442cd31c",
       "version_major": 2,
       "version_minor": 0
      },
      "text/plain": [
       "VBox()"
      ]
     },
     "metadata": {},
     "output_type": "display_data"
    },
    {
     "data": {
      "application/vnd.jupyter.widget-view+json": {
       "model_id": "",
       "version_major": 2,
       "version_minor": 0
      },
      "text/plain": [
       "FloatProgress(value=0.0, bar_style='info', description='Progress:', layout=Layout(height='25px', width='50%'),…"
      ]
     },
     "metadata": {},
     "output_type": "display_data"
    },
    {
     "name": "stdout",
     "output_type": "stream",
     "text": [
      "+---------------+---------------------+------------+-------+------------+------------+-----------+--------------------+------+-----------+-------+------------------+-----------+---------------+----------+------------------------+--------+------------+--------------------+--------------+--------------+---------+------------+---------+----+----+--------+-------------------+-------------------+-----------------------+---------------------+-------------------------+-------------------+-----------------------+-------+---------------+----+-----+-----+---------+---------------+------+-----------+----+-----+------------------+-----------+-------------+----------------+--------------------+-----------------------+-----------+------+-------------+---------+--------------------+------+-----------+-----+-----+--------------------+----------------+--------------------+--------------+------------------+-------+---------------------------------+-----+-------------+-----+---------+----+----+----+--------------------+-------------+--------+----------+----+------------------+---------------------+\n",
      "|_corrupt_record|additional_media_info|aspect_ratio|bitrate|content_type|contributors|coordinates|          created_at|delete|description|display|display_text_range|display_url|duration_millis|embeddable|                entities|expanded|expanded_url|   extended_entities|extended_tweet|favorite_count|favorited|filter_level|full_text| geo|   h|hashtags|                 id|             id_str|in_reply_to_screen_name|in_reply_to_status_id|in_reply_to_status_id_str|in_reply_to_user_id|in_reply_to_user_id_str|indices|is_quote_status|lang|large|media|media_url|media_url_https|medium|monetizable|name|place|possibly_sensitive|quote_count|quoted_status|quoted_status_id|quoted_status_id_str|quoted_status_permalink|reply_count|resize|retweet_count|retweeted|    retweeted_status|scopes|screen_name|sizes|small|              source|source_status_id|source_status_id_str|source_user_id|source_user_id_str|symbols|                             text|thumb| timestamp_ms|title|truncated|type| url|urls|                user|user_mentions|variants|video_info|   w|withheld_copyright|withheld_in_countries|\n",
      "+---------------+---------------------+------------+-------+------------+------------+-----------+--------------------+------+-----------+-------+------------------+-----------+---------------+----------+------------------------+--------+------------+--------------------+--------------+--------------+---------+------------+---------+----+----+--------+-------------------+-------------------+-----------------------+---------------------+-------------------------+-------------------+-----------------------+-------+---------------+----+-----+-----+---------+---------------+------+-----------+----+-----+------------------+-----------+-------------+----------------+--------------------+-----------------------+-----------+------+-------------+---------+--------------------+------+-----------+-----+-----+--------------------+----------------+--------------------+--------------+------------------+-------+---------------------------------+-----+-------------+-----+---------+----+----+----+--------------------+-------------+--------+----------+----+------------------+---------------------+\n",
      "|           null|                 null|        null|   null|        null|        null|       null|Tue Jan 15 14:13:...|  null|       null|   null|              null|       null|           null|      null|    {[], null, [], []...|    null|        null|                null|          null|             0|    false|         low|     null|null|null|    null|1085178038466142208|1085178038466142208|                   null|                 null|                     null|               null|                   null|   null|          false|  ko| null| null|     null|           null|  null|       null|null| null|              null|          0|         null|            null|                null|                   null|          0|  null|            0|    false|                null|  null|       null| null| null|<a href=\"http://t...|            null|                null|          null|              null|   null|   다시 태어나도 H.O.T.할 겁니다.| null|1547561580660| null|    false|null|null|null|{false, Sat Mar 2...|         null|    null|      null|null|              null|                 null|\n",
      "|           null|                 null|        null|   null|        null|        null|       null|Tue Jan 15 14:13:...|  null|       null|   null|              null|       null|           null|      null|    {[], null, [], []...|    null|        null|                null|          null|             0|    false|         low|     null|null|null|    null|1085178038466142208|1085178038466142208|                   null|                 null|                     null|               null|                   null|   null|          false|  ko| null| null|     null|           null|  null|       null|null| null|              null|          0|         null|            null|                null|                   null|          0|  null|            0|    false|                null|  null|       null| null| null|<a href=\"http://t...|            null|                null|          null|              null|   null|   다시 태어나도 H.O.T.할 겁니다.| null|1547561580660| null|    false|null|null|null|{false, Sat Mar 2...|         null|    null|      null|null|              null|                 null|\n",
      "|           null|                 null|        null|   null|        null|        null|       null|Tue Jan 15 14:13:...|  null|       null|   null|              null|       null|           null|      null|    {[{[43, 47], BTS}...|    null|        null|{[{null, null, pi...|          null|             0|    false|         low|     null|null|null|    null|1085178038453563392|1085178038453563392|                   null|                 null|                     null|               null|                   null|   null|          false|  ko| null| null|     null|           null|  null|       null|null| null|             false|          0|         null|            null|                null|                   null|          0|  null|            0|    false|{null, null, Tue ...|  null|       null| null| null|<a href=\"http://t...|            null|                null|          null|              null|   null|             RT @JMoment_bts: ...| null|1547561580657| null|    false|null|null|null|{false, Sat Apr 1...|         null|    null|      null|null|              null|                 null|\n",
      "|           null|                 null|        null|   null|        null|        null|       null|Tue Jan 15 14:13:...|  null|       null|   null|              null|       null|           null|      null|    {[{[43, 47], BTS}...|    null|        null|{[{null, null, pi...|          null|             0|    false|         low|     null|null|null|    null|1085178038453563392|1085178038453563392|                   null|                 null|                     null|               null|                   null|   null|          false|  ko| null| null|     null|           null|  null|       null|null| null|             false|          0|         null|            null|                null|                   null|          0|  null|            0|    false|{null, null, Tue ...|  null|       null| null| null|<a href=\"http://t...|            null|                null|          null|              null|   null|             RT @JMoment_bts: ...| null|1547561580657| null|    false|null|null|null|{false, Sat Apr 1...|         null|    null|      null|null|              null|                 null|\n",
      "|           null|                 null|        null|   null|        null|        null|       null|Tue Jan 15 14:13:...|  null|       null|   null|          [11, 24]|       null|           null|      null|    {[], null, [], []...|    null|        null|                null|          null|             0|    false|         low|     null|null|null|    null|1085178038461976576|1085178038461976576|              AliasCane|  1085175413792489472|      1085175413792489472|            8727232|                8727232|   null|          false|  es| null| null|     null|           null|  null|       null|null| null|              null|          0|         null|            null|                null|                   null|          0|  null|            0|    false|                null|  null|       null| null| null|<a href=\"http://t...|            null|                null|          null|              null|   null|             @AliasCane A mí t...| null|1547561580659| null|    false|null|null|null|{false, Wed Nov 0...|         null|    null|      null|null|              null|                 null|\n",
      "|           null|                 null|        null|   null|        null|        null|       null|Tue Jan 15 14:13:...|  null|       null|   null|          [11, 24]|       null|           null|      null|    {[], null, [], []...|    null|        null|                null|          null|             0|    false|         low|     null|null|null|    null|1085178038461976576|1085178038461976576|              AliasCane|  1085175413792489472|      1085175413792489472|            8727232|                8727232|   null|          false|  es| null| null|     null|           null|  null|       null|null| null|              null|          0|         null|            null|                null|                   null|          0|  null|            0|    false|                null|  null|       null| null| null|<a href=\"http://t...|            null|                null|          null|              null|   null|             @AliasCane A mí t...| null|1547561580659| null|    false|null|null|null|{false, Wed Nov 0...|         null|    null|      null|null|              null|                 null|\n",
      "|           null|                 null|        null|   null|        null|        null|       null|Tue Jan 15 14:13:...|  null|       null|   null|              null|       null|           null|      null|{[{[17, 23], 오늘의방...|    null|        null|                null|          null|             0|    false|         low|     null|null|null|    null|1085178038453600256|1085178038453600256|                   null|                 null|                     null|               null|                   null|   null|          false|  ko| null| null|     null|           null|  null|       null|null| null|              null|          0|         null|            null|                null|                   null|          0|  null|            0|    false|{null, null, Tue ...|  null|       null| null| null|<a href=\"http://t...|            null|                null|          null|              null|   null|             RT @bts_bighit: [...| null|1547561580657| null|    false|null|null|null|{false, Sat Jul 1...|         null|    null|      null|null|              null|                 null|\n",
      "|           null|                 null|        null|   null|        null|        null|       null|Tue Jan 15 14:13:...|  null|       null|   null|              null|       null|           null|      null|{[{[17, 23], 오늘의방...|    null|        null|                null|          null|             0|    false|         low|     null|null|null|    null|1085178038453600256|1085178038453600256|                   null|                 null|                     null|               null|                   null|   null|          false|  ko| null| null|     null|           null|  null|       null|null| null|              null|          0|         null|            null|                null|                   null|          0|  null|            0|    false|{null, null, Tue ...|  null|       null| null| null|<a href=\"http://t...|            null|                null|          null|              null|   null|             RT @bts_bighit: [...| null|1547561580657| null|    false|null|null|null|{false, Sat Jul 1...|         null|    null|      null|null|              null|                 null|\n",
      "|           null|                 null|        null|   null|        null|        null|       null|Tue Jan 15 14:13:...|  null|       null|   null|              null|       null|           null|      null|    {[], null, [], []...|    null|        null|                null|          null|             0|    false|         low|     null|null|null|    null|1085178038491373569|1085178038491373569|                   null|                 null|                     null|               null|                   null|   null|          false|  ja| null| null|     null|           null|  null|       null|null| null|              null|          0|         null|            null|                null|                   null|          0|  null|            0|    false|                null|  null|       null| null| null|<a href=\"http://t...|            null|                null|          null|              null|   null|ひとまず3話見て終わらせてたCha...| null|1547561580666| null|    false|null|null|null|{false, Tue Mar 1...|         null|    null|      null|null|              null|                 null|\n",
      "|           null|                 null|        null|   null|        null|        null|       null|Tue Jan 15 14:13:...|  null|       null|   null|              null|       null|           null|      null|    {[], null, [], []...|    null|        null|                null|          null|             0|    false|         low|     null|null|null|    null|1085178038491373569|1085178038491373569|                   null|                 null|                     null|               null|                   null|   null|          false|  ja| null| null|     null|           null|  null|       null|null| null|              null|          0|         null|            null|                null|                   null|          0|  null|            0|    false|                null|  null|       null| null| null|<a href=\"http://t...|            null|                null|          null|              null|   null|ひとまず3話見て終わらせてたCha...| null|1547561580666| null|    false|null|null|null|{false, Tue Mar 1...|         null|    null|      null|null|              null|                 null|\n",
      "|           null|                 null|        null|   null|        null|        null|       null|Tue Jan 15 14:13:...|  null|       null|   null|              null|       null|           null|      null|    {[], null, [], []...|    null|        null|                null|          null|             0|    false|         low|     null|null|null|    null|1085178038482923520|1085178038482923520|                   null|                 null|                     null|               null|                   null|   null|          false|  th| null| null|     null|           null|  null|       null|null| null|              null|          0|         null|            null|                null|                   null|          0|  null|            0|    false|{null, null, Tue ...|  null|       null| null| null|<a href=\"http://t...|            null|                null|          null|              null|   null|             RT @Konysnanny: ว...| null|1547561580664| null|    false|null|null|null|{false, Sat Dec 1...|         null|    null|      null|null|              null|                 null|\n",
      "|           null|                 null|        null|   null|        null|        null|       null|Tue Jan 15 14:13:...|  null|       null|   null|              null|       null|           null|      null|    {[], null, [], []...|    null|        null|                null|          null|             0|    false|         low|     null|null|null|    null|1085178038474555393|1085178038474555393|                   null|                 null|                     null|               null|                   null|   null|          false|  en| null| null|     null|           null|  null|       null|null| null|              null|          0|         null|            null|                null|                   null|          0|  null|            0|    false|{null, null, Tue ...|  null|       null| null| null|<a href=\"http://t...|            null|                null|          null|              null|   null|             RT @3shells1991: ...| null|1547561580662| null|    false|null|null|null|{false, Sun Jun 1...|         null|    null|      null|null|              null|                 null|\n",
      "|           null|                 null|        null|   null|        null|        null|       null|Tue Jan 15 14:13:...|  null|       null|   null|              null|       null|           null|      null|{[{[17, 23], 오늘의방...|    null|        null|                null|          null|             0|    false|         low|     null|null|null|    null|1085178038478753792|1085178038478753792|                   null|                 null|                     null|               null|                   null|   null|          false|  ko| null| null|     null|           null|  null|       null|null| null|              null|          0|         null|            null|                null|                   null|          0|  null|            0|    false|{null, null, Tue ...|  null|       null| null| null|<a href=\"http://t...|            null|                null|          null|              null|   null|             RT @bts_bighit: [...| null|1547561580663| null|    false|null|null|null|{false, Tue Jan 1...|         null|    null|      null|null|              null|                 null|\n",
      "|           null|                 null|        null|   null|        null|        null|       null|Tue Jan 15 14:13:...|  null|       null|   null|              null|       null|           null|      null|    {[], [{{null, nul...|    null|        null|{[{{null, null, f...|          null|             0|    false|         low|     null|null|null|    null|1085178038482919426|1085178038482919426|                   null|                 null|                     null|               null|                   null|   null|          false|  en| null| null|     null|           null|  null|       null|null| null|             false|          0|         null|            null|                null|                   null|          0|  null|            0|    false|{null, null, Tue ...|  null|       null| null| null|<a href=\"http://t...|            null|                null|          null|              null|   null|             RT @between6cm: p...| null|1547561580664| null|    false|null|null|null|{false, Fri Nov 2...|         null|    null|      null|null|              null|                 null|\n",
      "|           null|                 null|        null|   null|        null|        null|       null|Tue Jan 15 14:13:...|  null|       null|   null|              null|       null|           null|      null| {[{[52, 56], 하루토}...|    null|        null|{[{null, null, pi...|          null|             0|    false|         low|     null|null|null|    null|1085178038457753600|1085178038457753600|                   null|                 null|                     null|               null|                   null|   null|          false|  ko| null| null|     null|           null|  null|       null|null| null|             false|          0|         null|            null|                null|                   null|          0|  null|            0|    false|{null, null, Tue ...|  null|       null| null| null|<a href=\"http://t...|            null|                null|          null|              null|   null|             RT @hwyd_haruto: ...| null|1547561580658| null|    false|null|null|null|{false, Sun Sep 0...|         null|    null|      null|null|              null|                 null|\n",
      "|           null|                 null|        null|   null|        null|        null|       null|Tue Jan 15 14:13:...|  null|       null|   null|              null|       null|           null|      null|{[{[17, 23], 오늘의방...|    null|        null|                null|          null|             0|    false|         low|     null|null|null|    null|1085178038478753792|1085178038478753792|                   null|                 null|                     null|               null|                   null|   null|          false|  ko| null| null|     null|           null|  null|       null|null| null|              null|          0|         null|            null|                null|                   null|          0|  null|            0|    false|{null, null, Tue ...|  null|       null| null| null|<a href=\"http://t...|            null|                null|          null|              null|   null|             RT @bts_bighit: [...| null|1547561580663| null|    false|null|null|null|{false, Tue Jan 1...|         null|    null|      null|null|              null|                 null|\n",
      "|           null|                 null|        null|   null|        null|        null|       null|Tue Jan 15 14:13:...|  null|       null|   null|              null|       null|           null|      null|    {[], null, [], []...|    null|        null|                null|          null|             0|    false|         low|     null|null|null|    null|1085178038482923520|1085178038482923520|                   null|                 null|                     null|               null|                   null|   null|          false|  th| null| null|     null|           null|  null|       null|null| null|              null|          0|         null|            null|                null|                   null|          0|  null|            0|    false|{null, null, Tue ...|  null|       null| null| null|<a href=\"http://t...|            null|                null|          null|              null|   null|             RT @Konysnanny: ว...| null|1547561580664| null|    false|null|null|null|{false, Sat Dec 1...|         null|    null|      null|null|              null|                 null|\n",
      "|           null|                 null|        null|   null|        null|        null|       null|Tue Jan 15 14:13:...|  null|       null|   null|              null|       null|           null|      null|    {[], null, [], []...|    null|        null|                null|          null|             0|    false|         low|     null|null|null|    null|1085178038474555393|1085178038474555393|                   null|                 null|                     null|               null|                   null|   null|          false|  en| null| null|     null|           null|  null|       null|null| null|              null|          0|         null|            null|                null|                   null|          0|  null|            0|    false|{null, null, Tue ...|  null|       null| null| null|<a href=\"http://t...|            null|                null|          null|              null|   null|             RT @3shells1991: ...| null|1547561580662| null|    false|null|null|null|{false, Sun Jun 1...|         null|    null|      null|null|              null|                 null|\n",
      "|           null|                 null|        null|   null|        null|        null|       null|Tue Jan 15 14:13:...|  null|       null|   null|              null|       null|           null|      null|    {[], null, [], []...|    null|        null|                null|          null|             0|    false|         low|     null|null|null|    null|1085178038491348994|1085178038491348994|                   null|                 null|                     null|               null|                   null|   null|          false|  in| null| null|     null|           null|  null|       null|null| null|              null|          0|         null|            null|                null|                   null|          0|  null|            0|    false|{null, null, Tue ...|  null|       null| null| null|<a href=\"http://t...|            null|                null|          null|              null|   null|             RT @afqaah: @n_if...| null|1547561580666| null|    false|null|null|null|{false, Mon Sep 1...|         null|    null|      null|null|              null|                 null|\n",
      "|           null|                 null|        null|   null|        null|        null|       null|Tue Jan 15 14:13:...|  null|       null|   null|              null|       null|           null|      null|    {[], [{{null, nul...|    null|        null|{[{{null, null, f...|          null|             0|    false|         low|     null|null|null|    null|1085178038482919426|1085178038482919426|                   null|                 null|                     null|               null|                   null|   null|          false|  en| null| null|     null|           null|  null|       null|null| null|             false|          0|         null|            null|                null|                   null|          0|  null|            0|    false|{null, null, Tue ...|  null|       null| null| null|<a href=\"http://t...|            null|                null|          null|              null|   null|             RT @between6cm: p...| null|1547561580664| null|    false|null|null|null|{false, Fri Nov 2...|         null|    null|      null|null|              null|                 null|\n",
      "+---------------+---------------------+------------+-------+------------+------------+-----------+--------------------+------+-----------+-------+------------------+-----------+---------------+----------+------------------------+--------+------------+--------------------+--------------+--------------+---------+------------+---------+----+----+--------+-------------------+-------------------+-----------------------+---------------------+-------------------------+-------------------+-----------------------+-------+---------------+----+-----+-----+---------+---------------+------+-----------+----+-----+------------------+-----------+-------------+----------------+--------------------+-----------------------+-----------+------+-------------+---------+--------------------+------+-----------+-----+-----+--------------------+----------------+--------------------+--------------+------------------+-------+---------------------------------+-----+-------------+-----+---------+----+----+----+--------------------+-------------+--------+----------+----+------------------+---------------------+\n",
      "only showing top 20 rows"
     ]
    }
   ],
   "source": [
    "# Show the first few rows of the DataFrame\n",
    "#tweets_spark_df.show()"
   ]
  },
  {
   "cell_type": "code",
   "execution_count": 3,
   "metadata": {
    "execution": {
     "iopub.execute_input": "2023-12-19T23:21:20.754161Z",
     "iopub.status.busy": "2023-12-19T23:21:20.753946Z",
     "iopub.status.idle": "2023-12-19T23:21:20.988205Z",
     "shell.execute_reply": "2023-12-19T23:21:20.987558Z",
     "shell.execute_reply.started": "2023-12-19T23:21:20.754138Z"
    }
   },
   "outputs": [
    {
     "data": {
      "application/vnd.jupyter.widget-view+json": {
       "model_id": "6289937efb4b4d4b8c2a40339bd0027d",
       "version_major": 2,
       "version_minor": 0
      },
      "text/plain": [
       "VBox()"
      ]
     },
     "metadata": {},
     "output_type": "display_data"
    },
    {
     "data": {
      "application/vnd.jupyter.widget-view+json": {
       "model_id": "",
       "version_major": 2,
       "version_minor": 0
      },
      "text/plain": [
       "FloatProgress(value=0.0, bar_style='info', description='Progress:', layout=Layout(height='25px', width='50%'),…"
      ]
     },
     "metadata": {},
     "output_type": "display_data"
    },
    {
     "name": "stdout",
     "output_type": "stream",
     "text": [
      "81"
     ]
    }
   ],
   "source": [
    "# Show the quantity of columns of the DataFrame\n",
    "len(tweets_spark_df.columns)"
   ]
  },
  {
   "cell_type": "code",
   "execution_count": 4,
   "metadata": {
    "execution": {
     "iopub.execute_input": "2023-12-19T23:21:24.402145Z",
     "iopub.status.busy": "2023-12-19T23:21:24.401920Z",
     "iopub.status.idle": "2023-12-19T23:34:45.578817Z",
     "shell.execute_reply": "2023-12-19T23:34:45.578081Z",
     "shell.execute_reply.started": "2023-12-19T23:21:24.402114Z"
    },
    "tags": []
   },
   "outputs": [
    {
     "data": {
      "application/vnd.jupyter.widget-view+json": {
       "model_id": "4012f6a9fde344ab86e409fe077a1c26",
       "version_major": 2,
       "version_minor": 0
      },
      "text/plain": [
       "VBox()"
      ]
     },
     "metadata": {},
     "output_type": "display_data"
    },
    {
     "data": {
      "application/vnd.jupyter.widget-view+json": {
       "model_id": "",
       "version_major": 2,
       "version_minor": 0
      },
      "text/plain": [
       "FloatProgress(value=0.0, bar_style='info', description='Progress:', layout=Layout(height='25px', width='50%'),…"
      ]
     },
     "metadata": {},
     "output_type": "display_data"
    },
    {
     "name": "stdout",
     "output_type": "stream",
     "text": [
      "109525157"
     ]
    }
   ],
   "source": [
    "# Show the quantity of rows (tweets) of the DataFrame\n",
    "tweets_spark_df.count()"
   ]
  },
  {
   "cell_type": "code",
   "execution_count": null,
   "metadata": {},
   "outputs": [],
   "source": [
    "# Show the schema of the DataFrame\n",
    "#tweets_spark_df.printSchema()"
   ]
  },
  {
   "cell_type": "markdown",
   "metadata": {},
   "source": [
    "### Filter the DataFrame"
   ]
  },
  {
   "cell_type": "code",
   "execution_count": 5,
   "metadata": {
    "execution": {
     "iopub.execute_input": "2023-12-19T23:36:19.323656Z",
     "iopub.status.busy": "2023-12-19T23:36:19.323338Z",
     "iopub.status.idle": "2023-12-19T23:36:20.090520Z",
     "shell.execute_reply": "2023-12-19T23:36:20.089720Z",
     "shell.execute_reply.started": "2023-12-19T23:36:19.323614Z"
    }
   },
   "outputs": [
    {
     "data": {
      "application/vnd.jupyter.widget-view+json": {
       "model_id": "9e07199e67054635881ce49607914c91",
       "version_major": 2,
       "version_minor": 0
      },
      "text/plain": [
       "VBox()"
      ]
     },
     "metadata": {},
     "output_type": "display_data"
    },
    {
     "data": {
      "application/vnd.jupyter.widget-view+json": {
       "model_id": "",
       "version_major": 2,
       "version_minor": 0
      },
      "text/plain": [
       "FloatProgress(value=0.0, bar_style='info', description='Progress:', layout=Layout(height='25px', width='50%'),…"
      ]
     },
     "metadata": {},
     "output_type": "display_data"
    }
   ],
   "source": [
    "from pyspark.sql.functions import lower, col, array_contains\n",
    "\n",
    "# Define the list of hashtags for DataFrame filtering\n",
    "hashtags = [\n",
    "    'chavista', \n",
    "    'Chavista', \n",
    "    'CHAVISTA', \n",
    "    'fueravenecos', \n",
    "    'Fueravenecos', \n",
    "    'FueraVenecos', \n",
    "    'FUERAVENECOS', \n",
    "    'migrantevenezolano', \n",
    "    'Migrantevenezolano', \n",
    "    'MigranteVenezolano', \n",
    "    'MIGRANTEVENEZOLANO', \n",
    "    'portugalvenezuela', \n",
    "    'Portugalvenezuela', \n",
    "    'PortugalVenezuela', \n",
    "    'PORTUGALVENEZUELA', \n",
    "    'prayforvenezuela', \n",
    "    'Prayforvenezuela', \n",
    "    'PrayForVenezuela', \n",
    "    'PRAYFORVENEZUELA', \n",
    "    'refugiadovenezolano', \n",
    "    'Refugiadovenezolano', \n",
    "    'RefugiadoVenezolano', \n",
    "    'REFUGIADOVENEZOLANO', \n",
    "    'transperuzolano', \n",
    "    'Transperuzolano', \n",
    "    'TRANSPERUZOLANO', \n",
    "    'veneca', \n",
    "    'Veneca', \n",
    "    'VENECA', \n",
    "    'veneco', \n",
    "    'Veneco', \n",
    "    'VENECO', \n",
    "    'venecobardes', \n",
    "    'Venecobardes', \n",
    "    'VENECOBARDES', \n",
    "    'venezolana', \n",
    "    'Venezolana', \n",
    "    'VENEZOLANA', \n",
    "    'venezolandia', \n",
    "    'Venezolandia', \n",
    "    'VENEZOLANDIA', \n",
    "    'venezolano', \n",
    "    'Venezolano', \n",
    "    'VENEZOLANO', \n",
    "    'venezolanodemierda', \n",
    "    'Venezolanodemierda', \n",
    "    'VenezolanoDeMierda', \n",
    "    'VENEZOLANODEMIERDA', \n",
    "    'venezolanoshijosdeputa', \n",
    "    'Venezolanoshijosdeputa', \n",
    "    'VenezolanosHijosDePuta', \n",
    "    'VENEZOLANOSHIJOSDEPUTA', \n",
    "    'venezuela', \n",
    "    'Venezuela', \n",
    "    'VENEZUELA', \n",
    "    'venezuelaenlacalle', \n",
    "    'Venezuelaenlacalle', \n",
    "    'VenezuelaEnLaCalle', \n",
    "    'VENEZUELAENLACALLE', \n",
    "    'venezuelazo', \n",
    "    'Venezuelazo', \n",
    "    'VENEZUELAZO', \n",
    "    'venezuelazuela', \n",
    "    'Venezuelazuela'\n",
    "]\n",
    "\n",
    "expressions = [\n",
    "    'caraqueño', \n",
    "    'chaveta veneco', \n",
    "    'criollo veneco', \n",
    "    'guarimbeiros', \n",
    "    'parasitos venezolanos', \n",
    "    'refugiados de la miseria venezuela', \n",
    "    'sudaca venezolano', \n",
    "    'venecao', \n",
    "    'veneccio', \n",
    "    'venepobre', \n",
    "    'veneputas'\n",
    "]\n",
    "\n",
    "# Create a filtered DataFrame\n",
    "filtered_tweets_spark_df = tweets_spark_df.filter(\n",
    "    array_contains('entities.hashtags.text', hashtags[0]) |\\\n",
    "    array_contains('entities.hashtags.text', hashtags[1]) |\\\n",
    "    array_contains('entities.hashtags.text', hashtags[2]) |\\\n",
    "    array_contains('entities.hashtags.text', hashtags[3]) |\\\n",
    "    array_contains('entities.hashtags.text', hashtags[4]) |\\\n",
    "    array_contains('entities.hashtags.text', hashtags[5]) |\\\n",
    "    array_contains('entities.hashtags.text', hashtags[6]) |\\\n",
    "    array_contains('entities.hashtags.text', hashtags[7]) |\\\n",
    "    array_contains('entities.hashtags.text', hashtags[8]) |\\\n",
    "    array_contains('entities.hashtags.text', hashtags[9]) |\\\n",
    "    array_contains('entities.hashtags.text', hashtags[10]) |\\\n",
    "    array_contains('entities.hashtags.text', hashtags[11]) |\\\n",
    "    array_contains('entities.hashtags.text', hashtags[12]) |\\\n",
    "    array_contains('entities.hashtags.text', hashtags[13]) |\\\n",
    "    array_contains('entities.hashtags.text', hashtags[14]) |\\\n",
    "    array_contains('entities.hashtags.text', hashtags[15]) |\\\n",
    "    array_contains('entities.hashtags.text', hashtags[16]) |\\\n",
    "    array_contains('entities.hashtags.text', hashtags[17]) |\\\n",
    "    array_contains('entities.hashtags.text', hashtags[18]) |\\\n",
    "    array_contains('entities.hashtags.text', hashtags[19]) |\\\n",
    "    array_contains('entities.hashtags.text', hashtags[20]) |\\\n",
    "    array_contains('entities.hashtags.text', hashtags[21]) |\\\n",
    "    array_contains('entities.hashtags.text', hashtags[22]) |\\\n",
    "    array_contains('entities.hashtags.text', hashtags[23]) |\\\n",
    "    array_contains('entities.hashtags.text', hashtags[24]) |\\\n",
    "    array_contains('entities.hashtags.text', hashtags[25]) |\\\n",
    "    array_contains('entities.hashtags.text', hashtags[26]) |\\\n",
    "    array_contains('entities.hashtags.text', hashtags[27]) |\\\n",
    "    array_contains('entities.hashtags.text', hashtags[28]) |\\\n",
    "    array_contains('entities.hashtags.text', hashtags[29]) |\\\n",
    "    array_contains('entities.hashtags.text', hashtags[30]) |\\\n",
    "    array_contains('entities.hashtags.text', hashtags[31]) |\\\n",
    "    array_contains('entities.hashtags.text', hashtags[32]) |\\\n",
    "    array_contains('entities.hashtags.text', hashtags[33]) |\\\n",
    "    array_contains('entities.hashtags.text', hashtags[34]) |\\\n",
    "    array_contains('entities.hashtags.text', hashtags[35]) |\\\n",
    "    array_contains('entities.hashtags.text', hashtags[36]) |\\\n",
    "    array_contains('entities.hashtags.text', hashtags[37]) |\\\n",
    "    array_contains('entities.hashtags.text', hashtags[38]) |\\\n",
    "    array_contains('entities.hashtags.text', hashtags[39]) |\\\n",
    "    array_contains('entities.hashtags.text', hashtags[40]) |\\\n",
    "    array_contains('entities.hashtags.text', hashtags[41]) |\\\n",
    "    array_contains('entities.hashtags.text', hashtags[42]) |\\\n",
    "    array_contains('entities.hashtags.text', hashtags[43]) |\\\n",
    "    array_contains('entities.hashtags.text', hashtags[44]) |\\\n",
    "    array_contains('entities.hashtags.text', hashtags[45]) |\\\n",
    "    array_contains('entities.hashtags.text', hashtags[46]) |\\\n",
    "    array_contains('entities.hashtags.text', hashtags[47]) |\\\n",
    "    array_contains('entities.hashtags.text', hashtags[48]) |\\\n",
    "    array_contains('entities.hashtags.text', hashtags[49]) |\\\n",
    "    array_contains('entities.hashtags.text', hashtags[50]) |\\\n",
    "    array_contains('entities.hashtags.text', hashtags[51]) |\\\n",
    "    array_contains('entities.hashtags.text', hashtags[52]) |\\\n",
    "    array_contains('entities.hashtags.text', hashtags[53]) |\\\n",
    "    array_contains('entities.hashtags.text', hashtags[54]) |\\\n",
    "    array_contains('entities.hashtags.text', hashtags[55]) |\\\n",
    "    array_contains('entities.hashtags.text', hashtags[56]) |\\\n",
    "    array_contains('entities.hashtags.text', hashtags[57]) |\\\n",
    "    array_contains('entities.hashtags.text', hashtags[58]) |\\\n",
    "    array_contains('entities.hashtags.text', hashtags[59]) |\\\n",
    "    array_contains('entities.hashtags.text', hashtags[60]) |\\\n",
    "    array_contains('entities.hashtags.text', hashtags[61]) |\\\n",
    "    array_contains('entities.hashtags.text', hashtags[62]) |\\\n",
    "    array_contains('entities.hashtags.text', hashtags[63]) |\\\n",
    "    lower(col('text')).contains(expressions[0]) |\\\n",
    "    lower(col('text')).contains(expressions[1]) |\\\n",
    "    lower(col('text')).contains(expressions[2]) |\\\n",
    "    lower(col('text')).contains(expressions[3]) |\\\n",
    "    lower(col('text')).contains(expressions[4]) |\\\n",
    "    lower(col('text')).contains(expressions[5]) |\\\n",
    "    lower(col('text')).contains(expressions[6]) |\\\n",
    "    lower(col('text')).contains(expressions[7]) |\\\n",
    "    lower(col('text')).contains(expressions[8]) |\\\n",
    "    lower(col('text')).contains(expressions[9]) |\\\n",
    "    lower(col('text')).contains(expressions[10])\n",
    ")\n"
   ]
  },
  {
   "cell_type": "code",
   "execution_count": 6,
   "metadata": {
    "execution": {
     "iopub.execute_input": "2023-12-19T23:36:39.715949Z",
     "iopub.status.busy": "2023-12-19T23:36:39.715719Z",
     "iopub.status.idle": "2023-12-19T23:37:27.082377Z",
     "shell.execute_reply": "2023-12-19T23:37:27.081723Z",
     "shell.execute_reply.started": "2023-12-19T23:36:39.715925Z"
    }
   },
   "outputs": [
    {
     "data": {
      "application/vnd.jupyter.widget-view+json": {
       "model_id": "7934d21049b84c3e93390839e51ec21e",
       "version_major": 2,
       "version_minor": 0
      },
      "text/plain": [
       "VBox()"
      ]
     },
     "metadata": {},
     "output_type": "display_data"
    },
    {
     "data": {
      "application/vnd.jupyter.widget-view+json": {
       "model_id": "",
       "version_major": 2,
       "version_minor": 0
      },
      "text/plain": [
       "FloatProgress(value=0.0, bar_style='info', description='Progress:', layout=Layout(height='25px', width='50%'),…"
      ]
     },
     "metadata": {},
     "output_type": "display_data"
    },
    {
     "name": "stdout",
     "output_type": "stream",
     "text": [
      "+---------------+---------------------+------------+-------+------------+------------+-----------+--------------------+------+-----------+-------+------------------+-----------+---------------+----------+--------------------+--------+------------+--------------------+--------------------+--------------+---------+------------+---------+----+----+--------+-------------------+-------------------+-----------------------+---------------------+-------------------------+-------------------+-----------------------+-------+---------------+----+-----+-----+---------+---------------+------+-----------+----+-----+------------------+-----------+--------------------+-------------------+--------------------+-----------------------+-----------+------+-------------+---------+--------------------+------+-----------+-----+-----+--------------------+----------------+--------------------+--------------+------------------+-------+--------------------+-----+-------------+-----+---------+----+----+----+--------------------+-------------+--------+----------+----+------------------+---------------------+\n",
      "|_corrupt_record|additional_media_info|aspect_ratio|bitrate|content_type|contributors|coordinates|          created_at|delete|description|display|display_text_range|display_url|duration_millis|embeddable|            entities|expanded|expanded_url|   extended_entities|      extended_tweet|favorite_count|favorited|filter_level|full_text| geo|   h|hashtags|                 id|             id_str|in_reply_to_screen_name|in_reply_to_status_id|in_reply_to_status_id_str|in_reply_to_user_id|in_reply_to_user_id_str|indices|is_quote_status|lang|large|media|media_url|media_url_https|medium|monetizable|name|place|possibly_sensitive|quote_count|       quoted_status|   quoted_status_id|quoted_status_id_str|quoted_status_permalink|reply_count|resize|retweet_count|retweeted|    retweeted_status|scopes|screen_name|sizes|small|              source|source_status_id|source_status_id_str|source_user_id|source_user_id_str|symbols|                text|thumb| timestamp_ms|title|truncated|type| url|urls|                user|user_mentions|variants|video_info|   w|withheld_copyright|withheld_in_countries|\n",
      "+---------------+---------------------+------------+-------+------------+------------+-----------+--------------------+------+-----------+-------+------------------+-----------+---------------+----------+--------------------+--------+------------+--------------------+--------------------+--------------+---------+------------+---------+----+----+--------+-------------------+-------------------+-----------------------+---------------------+-------------------------+-------------------+-----------------------+-------+---------------+----+-----+-----+---------+---------------+------+-----------+----+-----+------------------+-----------+--------------------+-------------------+--------------------+-----------------------+-----------+------+-------------+---------+--------------------+------+-----------+-----+-----+--------------------+----------------+--------------------+--------------+------------------+-------+--------------------+-----+-------------+-----+---------+----+----+----+--------------------+-------------+--------+----------+----+------------------+---------------------+\n",
      "|           null|                 null|        null|   null|        null|        null|       null|Tue Jan 15 14:07:...|  null|       null|   null|              null|       null|           null|      null|{[{[67, 77], Vene...|    null|        null|                null|                null|             0|    false|         low|     null|null|null|    null|1085176574671048705|1085176574671048705|                   null|                 null|                     null|               null|                   null|   null|          false|  es| null| null|     null|           null|  null|       null|null| null|              null|          0|                null|               null|                null|                   null|          0|  null|            0|    false|{null, null, Tue ...|  null|       null| null| null|<a href=\"https://...|            null|                null|          null|              null|   null|RT @ceciperez1: C...| null|1547561231664| null|    false|null|null|null|{false, Mon Jan 0...|         null|    null|      null|null|              null|                 null|\n",
      "|           null|                 null|        null|   null|        null|        null|       null|Tue Jan 15 14:07:...|  null|       null|   null|              null|       null|           null|      null|{[{[67, 77], Vene...|    null|        null|                null|                null|             0|    false|         low|     null|null|null|    null|1085176574671048705|1085176574671048705|                   null|                 null|                     null|               null|                   null|   null|          false|  es| null| null|     null|           null|  null|       null|null| null|              null|          0|                null|               null|                null|                   null|          0|  null|            0|    false|{null, null, Tue ...|  null|       null| null| null|<a href=\"https://...|            null|                null|          null|              null|   null|RT @ceciperez1: C...| null|1547561231664| null|    false|null|null|null|{false, Mon Jan 0...|         null|    null|      null|null|              null|                 null|\n",
      "|           null|                 null|        null|   null|        null|        null|       null|Sun Jan 13 15:05:...|  null|       null|   null|              null|       null|           null|      null|{[{[38, 48], Vene...|    null|        null|                null|                null|             0|    false|         low|     null|null|null|    null|1084466499962707968|1084466499962707968|                   null|                 null|                     null|               null|                   null|   null|           true|  en| null| null|     null|           null|  null|       null|null| null|              null|          0|{null, null, Fri ...|1083771181998764033| 1083771181998764033|   {twitter.com/jgua...|          0|  null|            0|    false|{null, null, Sun ...|  null|       null| null| null|<a href=\"http://t...|            null|                null|          null|              null|   null|RT @marcorubio: U...| null|1547391936661| null|    false|null|null|null|{false, Thu Nov 1...|         null|    null|      null|null|              null|                 null|\n",
      "|           null|                 null|        null|   null|        null|        null|       null|Sun Jan 13 15:05:...|  null|       null|   null|              null|       null|           null|      null|{[{[38, 48], Vene...|    null|        null|                null|                null|             0|    false|         low|     null|null|null|    null|1084466499962707968|1084466499962707968|                   null|                 null|                     null|               null|                   null|   null|           true|  en| null| null|     null|           null|  null|       null|null| null|              null|          0|{null, null, Fri ...|1083771181998764033| 1083771181998764033|   {twitter.com/jgua...|          0|  null|            0|    false|{null, null, Sun ...|  null|       null| null| null|<a href=\"http://t...|            null|                null|          null|              null|   null|RT @marcorubio: U...| null|1547391936661| null|    false|null|null|null|{false, Thu Nov 1...|         null|    null|      null|null|              null|                 null|\n",
      "|           null|                 null|        null|   null|        null|        null|       null|Sun Jan 13 13:36:...|  null|       null|   null|              null|       null|           null|      null|{[{[28, 38], Vene...|    null|        null|                null|                null|             0|    false|         low|     null|null|null|    null|1084444052030976002|1084444052030976002|                   null|                 null|                     null|               null|                   null|   null|           true|  es| null| null|     null|           null|  null|       null|null| null|              null|          0|{null, null, Sat ...|1084105080339611649| 1084105080339611649|   {twitter.com/mape...|          0|  null|            0|    false|{null, null, Sat ...|  null|       null| null| null|<a href=\"http://t...|            null|                null|          null|              null|   null|RT @VillegasPolja...| null|1547386584657| null|    false|null|null|null|{false, Sat Aug 1...|         null|    null|      null|null|              null|                 null|\n",
      "|           null|                 null|        null|   null|        null|        null|       null|Sun Jan 13 13:36:...|  null|       null|   null|              null|       null|           null|      null|{[{[28, 38], Vene...|    null|        null|                null|                null|             0|    false|         low|     null|null|null|    null|1084444052030976002|1084444052030976002|                   null|                 null|                     null|               null|                   null|   null|           true|  es| null| null|     null|           null|  null|       null|null| null|              null|          0|{null, null, Sat ...|1084105080339611649| 1084105080339611649|   {twitter.com/mape...|          0|  null|            0|    false|{null, null, Sat ...|  null|       null| null| null|<a href=\"http://t...|            null|                null|          null|              null|   null|RT @VillegasPolja...| null|1547386584657| null|    false|null|null|null|{false, Sat Aug 1...|         null|    null|      null|null|              null|                 null|\n",
      "|           null|                 null|        null|   null|        null|        null|       null|Tue Jan 15 14:22:...|  null|       null|   null|              null|       null|           null|      null|{[{[0, 6], 15Ene}...|    null|        null|                null|{[0, 276], {[{[0,...|             0|    false|         low|     null|null|null|    null|1085180345350148101|1085180345350148101|                   null|                 null|                     null|               null|                   null|   null|           true| und| null| null|     null|           null|  null|       null|null| null|              null|          0|{null, null, Tue ...|1085167309038198785| 1085167309038198785|   {twitter.com/osam...|          0|  null|            0|    false|                null|  null|       null| null| null|<a href=\"http://t...|            null|                null|          null|              null|   null|#15Ene #15Enero #...| null|1547562130664| null|     true|null|null|null|{false, Mon Jun 1...|         null|    null|      null|null|              null|                 null|\n",
      "|           null|                 null|        null|   null|        null|        null|       null|Tue Jan 15 14:22:...|  null|       null|   null|              null|       null|           null|      null|{[{[0, 6], 15Ene}...|    null|        null|                null|{[0, 276], {[{[0,...|             0|    false|         low|     null|null|null|    null|1085180345350148101|1085180345350148101|                   null|                 null|                     null|               null|                   null|   null|           true| und| null| null|     null|           null|  null|       null|null| null|              null|          0|{null, null, Tue ...|1085167309038198785| 1085167309038198785|   {twitter.com/osam...|          0|  null|            0|    false|                null|  null|       null| null| null|<a href=\"http://t...|            null|                null|          null|              null|   null|#15Ene #15Enero #...| null|1547562130664| null|     true|null|null|null|{false, Mon Jun 1...|         null|    null|      null|null|              null|                 null|\n",
      "|           null|                 null|        null|   null|        null|        null|       null|Tue Jan 15 14:08:...|  null|       null|   null|              null|       null|           null|      null|{[{[0, 22], Madur...|    null|        null|                null|{[0, 121], {[{[0,...|             0|    false|         low|     null|null|null|    null|1085176809535217664|1085176809535217664|                   null|                 null|                     null|               null|                   null|   null|           true| und| null| null|     null|           null|  null|       null|null| null|              null|          0|{null, null, Tue ...|1085176009182400512| 1085176009182400512|   {twitter.com/tuit...|          0|  null|            0|    false|                null|  null|       null| null| null|<a href=\"http://t...|            null|                null|          null|              null|   null|#MaduroMensajeAnu...| null|1547561287660| null|     true|null|null|null|{false, Mon Jan 1...|         null|    null|      null|null|              null|                 null|\n",
      "|           null|                 null|        null|   null|        null|        null|       null|Tue Jan 15 14:08:...|  null|       null|   null|              null|       null|           null|      null|{[{[0, 22], Madur...|    null|        null|                null|{[0, 121], {[{[0,...|             0|    false|         low|     null|null|null|    null|1085176809535217664|1085176809535217664|                   null|                 null|                     null|               null|                   null|   null|           true| und| null| null|     null|           null|  null|       null|null| null|              null|          0|{null, null, Tue ...|1085176009182400512| 1085176009182400512|   {twitter.com/tuit...|          0|  null|            0|    false|                null|  null|       null| null| null|<a href=\"http://t...|            null|                null|          null|              null|   null|#MaduroMensajeAnu...| null|1547561287660| null|     true|null|null|null|{false, Mon Jan 1...|         null|    null|      null|null|              null|                 null|\n",
      "|           null|                 null|        null|   null|        null|        null|       null|Tue Jan 15 14:10:...|  null|       null|   null|              null|       null|           null|      null|{[{[112, 122], Ve...|    null|        null|                null|                null|             0|    false|         low|     null|null|null|    null|1085177384154861568|1085177384154861568|                   null|                 null|                     null|               null|                   null|   null|          false|  en| null| null|     null|           null|  null|       null|null| null|              null|          0|                null|               null|                null|                   null|          0|  null|            0|    false|{null, null, Tue ...|  null|       null| null| null|<a href=\"http://t...|            null|                null|          null|              null|   null|RT @marcorubio: O...| null|1547561424660| null|    false|null|null|null|{false, Wed May 2...|         null|    null|      null|null|              null|                 null|\n",
      "|           null|                 null|        null|   null|        null|        null|       null|Tue Jan 15 14:10:...|  null|       null|   null|              null|       null|           null|      null|{[{[112, 122], Ve...|    null|        null|                null|                null|             0|    false|         low|     null|null|null|    null|1085177384154861568|1085177384154861568|                   null|                 null|                     null|               null|                   null|   null|          false|  en| null| null|     null|           null|  null|       null|null| null|              null|          0|                null|               null|                null|                   null|          0|  null|            0|    false|{null, null, Tue ...|  null|       null| null| null|<a href=\"http://t...|            null|                null|          null|              null|   null|RT @marcorubio: O...| null|1547561424660| null|    false|null|null|null|{false, Wed May 2...|         null|    null|      null|null|              null|                 null|\n",
      "|           null|                 null|        null|   null|        null|        null|       null|Tue Jan 15 14:09:...|  null|       null|   null|              null|       null|           null|      null|{[{[17, 23], QAno...|    null|        null|                null|                null|             0|    false|         low|     null|null|null|    null|1085177061189275649|1085177061189275649|                   null|                 null|                     null|               null|                   null|   null|          false|  en| null| null|     null|           null|  null|       null|null| null|              null|          0|                null|               null|                null|                   null|          0|  null|            0|    false|{null, null, Tue ...|  null|       null| null| null|<a href=\"http://t...|            null|                null|          null|              null|   null|RT @QNuevomedio: ...| null|1547561347659| null|    false|null|null|null|{false, Thu Jun 1...|         null|    null|      null|null|              null|                 null|\n",
      "|           null|                 null|        null|   null|        null|        null|       null|Tue Jan 15 14:09:...|  null|       null|   null|              null|       null|           null|      null|{[{[17, 23], QAno...|    null|        null|                null|                null|             0|    false|         low|     null|null|null|    null|1085177061189275649|1085177061189275649|                   null|                 null|                     null|               null|                   null|   null|          false|  en| null| null|     null|           null|  null|       null|null| null|              null|          0|                null|               null|                null|                   null|          0|  null|            0|    false|{null, null, Tue ...|  null|       null| null| null|<a href=\"http://t...|            null|                null|          null|              null|   null|RT @QNuevomedio: ...| null|1547561347659| null|    false|null|null|null|{false, Thu Jun 1...|         null|    null|      null|null|              null|                 null|\n",
      "|           null|                 null|        null|   null|        null|        null|       null|Sun Jan 13 15:06:...|  null|       null|   null|              null|       null|           null|      null|{[{[21, 27], 13En...|    null|        null|                null|                null|             0|    false|         low|     null|null|null|    null|1084466734831202304|1084466734831202304|                   null|                 null|                     null|               null|                   null|   null|          false|  es| null| null|     null|           null|  null|       null|null| null|              null|          0|                null|               null|                null|                   null|          0|  null|            0|    false|{null, null, Sun ...|  null|       null| null| null|<a href=\"http://t...|            null|                null|          null|              null|   null|RT @dulcemariaPri...| null|1547391992658| null|    false|null|null|null|{false, Mon Feb 2...|         null|    null|      null|null|              null|                 null|\n",
      "|           null|                 null|        null|   null|        null|        null|       null|Sun Jan 13 15:06:...|  null|       null|   null|              null|       null|           null|      null|{[{[21, 27], 13En...|    null|        null|                null|                null|             0|    false|         low|     null|null|null|    null|1084466734831202304|1084466734831202304|                   null|                 null|                     null|               null|                   null|   null|          false|  es| null| null|     null|           null|  null|       null|null| null|              null|          0|                null|               null|                null|                   null|          0|  null|            0|    false|{null, null, Sun ...|  null|       null| null| null|<a href=\"http://t...|            null|                null|          null|              null|   null|RT @dulcemariaPri...| null|1547391992658| null|    false|null|null|null|{false, Mon Feb 2...|         null|    null|      null|null|              null|                 null|\n",
      "|           null|                 null|        null|   null|        null|        null|       null|Tue Jan 15 14:00:...|  null|       null|   null|           [0, 74]|       null|           null|      null|{[{[38, 47], migr...|    null|        null|{[{{, true, false...|                null|             0|    false|         low|     null|null|null|    null|1085174771116060672|1085174771116060672|                   null|                 null|                     null|               null|                   null|   null|          false|  es| null| null|     null|           null|  null|       null|null| null|             false|          0|                null|               null|                null|                   null|          0|  null|            0|    false|                null|  null|       null| null| null|<a href=\"https://...|            null|                null|          null|              null|   null|Maicao integrates...| null|1547560801663| null|    false|null|null|null|{false, Tue Nov 2...|         null|    null|      null|null|              null|                 null|\n",
      "|           null|                 null|        null|   null|        null|        null|       null|Tue Jan 15 14:00:...|  null|       null|   null|           [0, 74]|       null|           null|      null|{[{[38, 47], migr...|    null|        null|{[{{, true, false...|                null|             0|    false|         low|     null|null|null|    null|1085174771116060672|1085174771116060672|                   null|                 null|                     null|               null|                   null|   null|          false|  es| null| null|     null|           null|  null|       null|null| null|             false|          0|                null|               null|                null|                   null|          0|  null|            0|    false|                null|  null|       null| null| null|<a href=\"https://...|            null|                null|          null|              null|   null|Maicao integrates...| null|1547560801663| null|    false|null|null|null|{false, Tue Nov 2...|         null|    null|      null|null|              null|                 null|\n",
      "|           null|                 null|        null|   null|        null|        null|       null|Tue Jan 15 14:00:...|  null|       null|   null|              null|       null|           null|      null|{[{[17, 27], Vene...|    null|        null|                null|                null|             0|    false|         low|     null|null|null|    null|1085174934706499585|1085174934706499585|                   null|                 null|                     null|               null|                   null|   null|          false|  es| null| null|     null|           null|  null|       null|null| null|              null|          0|                null|               null|                null|                   null|          0|  null|            0|    false|{null, null, Tue ...|  null|       null| null| null|<a href=\"http://t...|            null|                null|          null|              null|   null|RT @TAMARA_SUJU: ...| null|1547560840666| null|    false|null|null|null|{false, Wed Mar 1...|         null|    null|      null|null|              null|                 null|\n",
      "|           null|                 null|        null|   null|        null|        null|       null|Tue Jan 15 14:00:...|  null|       null|   null|              null|       null|           null|      null|{[{[17, 27], Vene...|    null|        null|                null|                null|             0|    false|         low|     null|null|null|    null|1085174934706499585|1085174934706499585|                   null|                 null|                     null|               null|                   null|   null|          false|  es| null| null|     null|           null|  null|       null|null| null|              null|          0|                null|               null|                null|                   null|          0|  null|            0|    false|{null, null, Tue ...|  null|       null| null| null|<a href=\"http://t...|            null|                null|          null|              null|   null|RT @TAMARA_SUJU: ...| null|1547560840666| null|    false|null|null|null|{false, Wed Mar 1...|         null|    null|      null|null|              null|                 null|\n",
      "+---------------+---------------------+------------+-------+------------+------------+-----------+--------------------+------+-----------+-------+------------------+-----------+---------------+----------+--------------------+--------+------------+--------------------+--------------------+--------------+---------+------------+---------+----+----+--------+-------------------+-------------------+-----------------------+---------------------+-------------------------+-------------------+-----------------------+-------+---------------+----+-----+-----+---------+---------------+------+-----------+----+-----+------------------+-----------+--------------------+-------------------+--------------------+-----------------------+-----------+------+-------------+---------+--------------------+------+-----------+-----+-----+--------------------+----------------+--------------------+--------------+------------------+-------+--------------------+-----+-------------+-----+---------+----+----+----+--------------------+-------------+--------+----------+----+------------------+---------------------+\n",
      "only showing top 20 rows"
     ]
    }
   ],
   "source": [
    "# Show the first few rows of the DataFrame\n",
    "#filtered_tweets_spark_df.show()"
   ]
  },
  {
   "cell_type": "code",
   "execution_count": null,
   "metadata": {},
   "outputs": [],
   "source": [
    "# Show the quantity of columns of the DataFrame\n",
    "len(filtered_tweets_spark_df.columns)"
   ]
  },
  {
   "cell_type": "code",
   "execution_count": 7,
   "metadata": {
    "execution": {
     "iopub.execute_input": "2023-12-19T23:37:39.654958Z",
     "iopub.status.busy": "2023-12-19T23:37:39.654737Z",
     "iopub.status.idle": "2023-12-19T23:52:59.129307Z",
     "shell.execute_reply": "2023-12-19T23:52:59.128607Z",
     "shell.execute_reply.started": "2023-12-19T23:37:39.654935Z"
    },
    "tags": []
   },
   "outputs": [
    {
     "data": {
      "application/vnd.jupyter.widget-view+json": {
       "model_id": "7ef6bd42b2fb491188976058798dcb54",
       "version_major": 2,
       "version_minor": 0
      },
      "text/plain": [
       "VBox()"
      ]
     },
     "metadata": {},
     "output_type": "display_data"
    },
    {
     "data": {
      "application/vnd.jupyter.widget-view+json": {
       "model_id": "",
       "version_major": 2,
       "version_minor": 0
      },
      "text/plain": [
       "FloatProgress(value=0.0, bar_style='info', description='Progress:', layout=Layout(height='25px', width='50%'),…"
      ]
     },
     "metadata": {},
     "output_type": "display_data"
    },
    {
     "name": "stdout",
     "output_type": "stream",
     "text": [
      "38831"
     ]
    }
   ],
   "source": [
    "# Show the quantity of rows (tweets) of the DataFrame\n",
    "filtered_tweets_spark_df.count()"
   ]
  },
  {
   "cell_type": "code",
   "execution_count": null,
   "metadata": {},
   "outputs": [],
   "source": [
    "# Show the schema of the DataFrame\n",
    "#filtered_tweets_spark_df.printSchema()"
   ]
  },
  {
   "cell_type": "markdown",
   "metadata": {},
   "source": [
    "Adjust the output path accordingly."
   ]
  },
  {
   "cell_type": "code",
   "execution_count": 8,
   "metadata": {
    "execution": {
     "iopub.execute_input": "2023-12-19T23:54:58.700618Z",
     "iopub.status.busy": "2023-12-19T23:54:58.700392Z",
     "iopub.status.idle": "2023-12-20T00:12:38.647802Z",
     "shell.execute_reply": "2023-12-20T00:12:38.647258Z",
     "shell.execute_reply.started": "2023-12-19T23:54:58.700594Z"
    }
   },
   "outputs": [
    {
     "data": {
      "application/vnd.jupyter.widget-view+json": {
       "model_id": "dd8849f013134d6281ddc00e953825ee",
       "version_major": 2,
       "version_minor": 0
      },
      "text/plain": [
       "VBox()"
      ]
     },
     "metadata": {},
     "output_type": "display_data"
    },
    {
     "data": {
      "application/vnd.jupyter.widget-view+json": {
       "model_id": "",
       "version_major": 2,
       "version_minor": 0
      },
      "text/plain": [
       "FloatProgress(value=0.0, bar_style='info', description='Progress:', layout=Layout(height='25px', width='50%'),…"
      ]
     },
     "metadata": {},
     "output_type": "display_data"
    }
   ],
   "source": [
    "# Export the DataFrame to JSONL format\n",
    "#output_path = 's3://gelcawsemr/2019_01_01_00/filtered_tweets.jsonl'\n",
    "output_path = 's3://gelcawsemr/2019_01/filtered_tweets.jsonl'\n",
    "filtered_tweets_spark_df.write.mode('overwrite').json(output_path)"
   ]
  },
  {
   "cell_type": "markdown",
   "metadata": {},
   "source": [
    "### Transfer and consolidate the filtered tweets"
   ]
  },
  {
   "cell_type": "markdown",
   "metadata": {},
   "source": [
    "`aws s3 cp s3://gelcawsemr/2019_01/filtered_tweets.jsonl/ . --recursive`"
   ]
  },
  {
   "cell_type": "markdown",
   "metadata": {},
   "source": [
    "`find /path/to/directory -name '*.json' -print0 | xargs -0 jq -s '.' > filtered_tweets.jsonl`"
   ]
  },
  {
   "cell_type": "code",
   "execution_count": null,
   "metadata": {},
   "outputs": [],
   "source": []
  }
 ],
 "metadata": {
  "kernelspec": {
   "display_name": "PySpark",
   "language": "python",
   "name": "pysparkkernel"
  },
  "language_info": {
   "codemirror_mode": {
    "name": "python",
    "version": 3
   },
   "file_extension": ".py",
   "mimetype": "text/x-python",
   "name": "pyspark",
   "pygments_lexer": "python3"
  }
 },
 "nbformat": 4,
 "nbformat_minor": 4
}
