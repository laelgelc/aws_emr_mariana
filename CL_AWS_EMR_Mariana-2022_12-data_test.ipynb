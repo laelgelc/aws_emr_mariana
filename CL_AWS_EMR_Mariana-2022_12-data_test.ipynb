{
 "cells": [
  {
   "cell_type": "markdown",
   "id": "810d9f10-ec19-4b09-8f90-e983e460b319",
   "metadata": {},
   "source": [
    "<center>\n",
    "<img src=\"https://laelgelcpublic.s3.sa-east-1.amazonaws.com/lael_50_years_narrow_white.png.no_years.400px_96dpi.png\" width=\"300\" alt=\"LAEL 50 years logo\">\n",
    "<h3>APPLIED LINGUISTICS GRADUATE PROGRAMME (LAEL)</h3>\n",
    "</center>\n",
    "<hr>"
   ]
  },
  {
   "cell_type": "markdown",
   "id": "888c2c96-2fc3-4a1a-995b-c388036a2a15",
   "metadata": {},
   "source": [
    "# Data extraction solution for Mariana's research project"
   ]
  },
  {
   "cell_type": "markdown",
   "id": "544e6e78-f2da-41aa-b313-8339f3dc985c",
   "metadata": {},
   "source": [
    "## Extract data with an Amazon EMR Apache Spark cluster"
   ]
  },
  {
   "cell_type": "markdown",
   "id": "e3d341f6-25c9-4ab7-af90-d773956574d0",
   "metadata": {},
   "source": [
    "## Year 2020, month 12"
   ]
  },
  {
   "cell_type": "markdown",
   "id": "30f9caaa-6d2c-4a3a-a7fc-17672e9d9379",
   "metadata": {},
   "source": [
    "### Import the required libraries"
   ]
  },
  {
   "cell_type": "code",
   "execution_count": 1,
   "id": "4bf4785f-cfde-4ad6-818e-2f1cb1a23962",
   "metadata": {
    "execution": {
     "iopub.execute_input": "2024-07-08T12:34:56.546046Z",
     "iopub.status.busy": "2024-07-08T12:34:56.545734Z",
     "iopub.status.idle": "2024-07-08T12:35:44.232475Z",
     "shell.execute_reply": "2024-07-08T12:35:44.231867Z",
     "shell.execute_reply.started": "2024-07-08T12:34:56.546015Z"
    },
    "tags": []
   },
   "outputs": [
    {
     "data": {
      "application/vnd.jupyter.widget-view+json": {
       "model_id": "563afaa3739d407f8aa438687cdb9b96",
       "version_major": 2,
       "version_minor": 0
      },
      "text/plain": [
       "VBox()"
      ]
     },
     "metadata": {},
     "output_type": "display_data"
    },
    {
     "name": "stdout",
     "output_type": "stream",
     "text": [
      "Starting Spark application\n"
     ]
    },
    {
     "data": {
      "text/html": [
       "<table>\n<tbody><tr><th>ID</th><th>YARN Application ID</th><th>Kind</th><th>State</th><th>Spark UI</th><th>Driver log</th><th>User</th><th>Current session?</th></tr><tr><td>0</td><td>application_1720441205821_0001</td><td>pyspark</td><td>idle</td><td><a target=\"_blank\" href=\"http://ip-172-31-40-160.sa-east-1.compute.internal:20888/proxy/application_1720441205821_0001/\" class=\"emr-proxy-link j-17MXW2IH7C6GZ application_1720441205821_0001\" emr-resource=\"j-17MXW2IH7C6GZ\n\" application-id=\"application_1720441205821_0001\">Link</a></td><td><a target=\"_blank\" href=\"http://ip-172-31-32-24.sa-east-1.compute.internal:8042/node/containerlogs/container_1720441205821_0001_01_000001/livy\">Link</a></td><td>None</td><td>✔</td></tr></tbody></table>"
      ],
      "text/plain": [
       "<IPython.core.display.HTML object>"
      ]
     },
     "metadata": {},
     "output_type": "display_data"
    },
    {
     "data": {
      "application/vnd.jupyter.widget-view+json": {
       "model_id": "",
       "version_major": 2,
       "version_minor": 0
      },
      "text/plain": [
       "FloatProgress(value=0.0, bar_style='info', description='Progress:', layout=Layout(height='25px', width='50%'),…"
      ]
     },
     "metadata": {},
     "output_type": "display_data"
    },
    {
     "name": "stdout",
     "output_type": "stream",
     "text": [
      "SparkSession available as 'spark'.\n"
     ]
    },
    {
     "data": {
      "application/vnd.jupyter.widget-view+json": {
       "model_id": "",
       "version_major": 2,
       "version_minor": 0
      },
      "text/plain": [
       "FloatProgress(value=0.0, bar_style='info', description='Progress:', layout=Layout(height='25px', width='50%'),…"
      ]
     },
     "metadata": {},
     "output_type": "display_data"
    }
   ],
   "source": [
    "from pyspark.sql import SparkSession\n",
    "from pyspark.sql.functions import lower, col, array_contains"
   ]
  },
  {
   "cell_type": "markdown",
   "id": "990ba74e-71c4-4037-b031-6809c4c5f5c0",
   "metadata": {},
   "source": [
    "### Load data into an Amazon EMR Apache Spark DataFrame"
   ]
  },
  {
   "cell_type": "markdown",
   "id": "a59b4b6e-e7b0-46a2-9036-c796a58b8c29",
   "metadata": {},
   "source": [
    "The data corresponding to month 12 of year 2022 is malformed. While the data samples of other months have around 37 columns, the data of month 12 of year 2023 has only 3 columns, which makes it unsuitable."
   ]
  },
  {
   "cell_type": "code",
   "execution_count": 2,
   "id": "74b2630c-94f1-4951-8edd-4e79f86328f2",
   "metadata": {
    "execution": {
     "iopub.execute_input": "2024-07-08T12:35:50.688338Z",
     "iopub.status.busy": "2024-07-08T12:35:50.688112Z",
     "iopub.status.idle": "2024-07-08T12:47:14.513556Z",
     "shell.execute_reply": "2024-07-08T12:47:14.512636Z",
     "shell.execute_reply.started": "2024-07-08T12:35:50.688311Z"
    },
    "tags": []
   },
   "outputs": [
    {
     "data": {
      "application/vnd.jupyter.widget-view+json": {
       "model_id": "f45406bb235e49d98d40bb4e5162407c",
       "version_major": 2,
       "version_minor": 0
      },
      "text/plain": [
       "VBox()"
      ]
     },
     "metadata": {},
     "output_type": "display_data"
    },
    {
     "data": {
      "application/vnd.jupyter.widget-view+json": {
       "model_id": "",
       "version_major": 2,
       "version_minor": 0
      },
      "text/plain": [
       "FloatProgress(value=0.0, bar_style='info', description='Progress:', layout=Layout(height='25px', width='50%'),…"
      ]
     },
     "metadata": {},
     "output_type": "display_data"
    }
   ],
   "source": [
    "# Set the S3 bucket and folder paths\n",
    "data_source = 's3://gelctweets2022/2023_12/'\n",
    "output_path = 's3://gelcawsemr2022/2022_12/filtered_tweets.jsonl'\n",
    "\n",
    "# Create a SparkSession\n",
    "spark = SparkSession.builder.appName('The Twitter Grab Corpus').getOrCreate()\n",
    "\n",
    "# Read the JSONL files into a DataFrame\n",
    "#tweets_spark_df = spark.read.json(args.data_source) # RevA parameters\n",
    "tweets_spark_df = spark.read.option('recursiveFileLookup', 'true').json(data_source) # RevB parameters"
   ]
  },
  {
   "cell_type": "code",
   "execution_count": 3,
   "id": "d3f2dd37-0236-4917-972c-6e0f9031cad9",
   "metadata": {
    "execution": {
     "iopub.execute_input": "2024-07-08T12:47:26.463096Z",
     "iopub.status.busy": "2024-07-08T12:47:26.462873Z",
     "iopub.status.idle": "2024-07-08T12:47:28.748050Z",
     "shell.execute_reply": "2024-07-08T12:47:28.747259Z",
     "shell.execute_reply.started": "2024-07-08T12:47:26.463071Z"
    }
   },
   "outputs": [
    {
     "data": {
      "application/vnd.jupyter.widget-view+json": {
       "model_id": "7eb3b009dcdc4acb80ba068694ea333a",
       "version_major": 2,
       "version_minor": 0
      },
      "text/plain": [
       "VBox()"
      ]
     },
     "metadata": {},
     "output_type": "display_data"
    },
    {
     "data": {
      "application/vnd.jupyter.widget-view+json": {
       "model_id": "",
       "version_major": 2,
       "version_minor": 0
      },
      "text/plain": [
       "FloatProgress(value=0.0, bar_style='info', description='Progress:', layout=Layout(height='25px', width='50%'),…"
      ]
     },
     "metadata": {},
     "output_type": "display_data"
    },
    {
     "name": "stdout",
     "output_type": "stream",
     "text": [
      "+--------------------+--------------------+--------------------+\n",
      "|                data|              errors|            includes|\n",
      "+--------------------+--------------------+--------------------+\n",
      "|{{NULL, NULL}, 15...|                NULL|{NULL, NULL, NULL...|\n",
      "|{{NULL, NULL}, 30...|                NULL|{NULL, NULL, NULL...|\n",
      "|{{NULL, NULL}, 12...|                NULL|{NULL, NULL, NULL...|\n",
      "|{{NULL, NULL}, 23...|                NULL|{NULL, NULL, NULL...|\n",
      "|{{NULL, NULL}, 24...|                NULL|{NULL, NULL, NULL...|\n",
      "|{{NULL, NULL}, 27...|                NULL|{NULL, NULL, NULL...|\n",
      "|{{NULL, NULL}, 42...|                NULL|{NULL, NULL, NULL...|\n",
      "|{{NULL, NULL}, 14...|                NULL|{NULL, NULL, NULL...|\n",
      "|{{NULL, NULL}, 48...|                NULL|{NULL, NULL, NULL...|\n",
      "|{{NULL, NULL}, 12...|                NULL|{NULL, NULL, NULL...|\n",
      "|{{NULL, NULL}, 14...|[{Sorry, you are ...|{NULL, NULL, NULL...|\n",
      "|{{NULL, NULL}, 86...|                NULL|{NULL, NULL, NULL...|\n",
      "|{{NULL, NULL}, 12...|                NULL|{NULL, NULL, NULL...|\n",
      "|{{NULL, NULL}, 14...|                NULL|{NULL, NULL, NULL...|\n",
      "|{{NULL, NULL}, 12...|                NULL|{NULL, NULL, NULL...|\n",
      "|{{NULL, NULL}, 13...|                NULL|{NULL, NULL, NULL...|\n",
      "|{{NULL, NULL}, 14...|                NULL|{NULL, NULL, NULL...|\n",
      "|{{NULL, NULL}, 14...|                NULL|{NULL, NULL, NULL...|\n",
      "|{{NULL, NULL}, 81...|                NULL|{NULL, NULL, NULL...|\n",
      "|{{NULL, NULL}, 88...|                NULL|{NULL, NULL, NULL...|\n",
      "+--------------------+--------------------+--------------------+\n",
      "only showing top 20 rows"
     ]
    }
   ],
   "source": [
    "# Show the first few rows of the DataFrame\n",
    "tweets_spark_df.show()"
   ]
  },
  {
   "cell_type": "code",
   "execution_count": 4,
   "id": "bacc0570-1b53-4dc3-a96f-1cf23a3b689a",
   "metadata": {
    "execution": {
     "iopub.execute_input": "2024-07-08T12:47:49.350117Z",
     "iopub.status.busy": "2024-07-08T12:47:49.349751Z",
     "iopub.status.idle": "2024-07-08T12:47:49.623133Z",
     "shell.execute_reply": "2024-07-08T12:47:49.622370Z",
     "shell.execute_reply.started": "2024-07-08T12:47:49.350073Z"
    }
   },
   "outputs": [
    {
     "data": {
      "application/vnd.jupyter.widget-view+json": {
       "model_id": "7621a5021eac4421a17a2137e4857d51",
       "version_major": 2,
       "version_minor": 0
      },
      "text/plain": [
       "VBox()"
      ]
     },
     "metadata": {},
     "output_type": "display_data"
    },
    {
     "data": {
      "application/vnd.jupyter.widget-view+json": {
       "model_id": "",
       "version_major": 2,
       "version_minor": 0
      },
      "text/plain": [
       "FloatProgress(value=0.0, bar_style='info', description='Progress:', layout=Layout(height='25px', width='50%'),…"
      ]
     },
     "metadata": {},
     "output_type": "display_data"
    },
    {
     "name": "stdout",
     "output_type": "stream",
     "text": [
      "3"
     ]
    }
   ],
   "source": [
    "# Show the quantity of columns of the DataFrame\n",
    "len(tweets_spark_df.columns)"
   ]
  },
  {
   "cell_type": "code",
   "execution_count": 5,
   "id": "c0e13a54-8ff5-4bef-8158-fb9a6d9298e2",
   "metadata": {
    "execution": {
     "iopub.execute_input": "2024-07-08T12:47:54.198640Z",
     "iopub.status.busy": "2024-07-08T12:47:54.198412Z",
     "iopub.status.idle": "2024-07-08T12:49:31.797841Z",
     "shell.execute_reply": "2024-07-08T12:49:31.797006Z",
     "shell.execute_reply.started": "2024-07-08T12:47:54.198613Z"
    }
   },
   "outputs": [
    {
     "data": {
      "application/vnd.jupyter.widget-view+json": {
       "model_id": "79747747b3fa4d2a8ad9d36fa83378a6",
       "version_major": 2,
       "version_minor": 0
      },
      "text/plain": [
       "VBox()"
      ]
     },
     "metadata": {},
     "output_type": "display_data"
    },
    {
     "data": {
      "application/vnd.jupyter.widget-view+json": {
       "model_id": "",
       "version_major": 2,
       "version_minor": 0
      },
      "text/plain": [
       "FloatProgress(value=0.0, bar_style='info', description='Progress:', layout=Layout(height='25px', width='50%'),…"
      ]
     },
     "metadata": {},
     "output_type": "display_data"
    },
    {
     "name": "stdout",
     "output_type": "stream",
     "text": [
      "69687999"
     ]
    }
   ],
   "source": [
    "# Show the quantity of rows (tweets) of the DataFrame\n",
    "tweets_spark_df.count()"
   ]
  },
  {
   "cell_type": "markdown",
   "id": "44f20546-c500-4482-ae4c-7e949c26d225",
   "metadata": {},
   "source": [
    "### Filter the dataframe"
   ]
  },
  {
   "cell_type": "code",
   "execution_count": 6,
   "id": "1b4a8657-0245-4eaf-b11f-233891dc8849",
   "metadata": {
    "execution": {
     "iopub.execute_input": "2024-07-08T12:54:55.898391Z",
     "iopub.status.busy": "2024-07-08T12:54:55.898168Z",
     "iopub.status.idle": "2024-07-08T12:54:56.665840Z",
     "shell.execute_reply": "2024-07-08T12:54:56.665255Z",
     "shell.execute_reply.started": "2024-07-08T12:54:55.898366Z"
    }
   },
   "outputs": [
    {
     "data": {
      "application/vnd.jupyter.widget-view+json": {
       "model_id": "cb2098a25be24825a3e55506558cf039",
       "version_major": 2,
       "version_minor": 0
      },
      "text/plain": [
       "VBox()"
      ]
     },
     "metadata": {},
     "output_type": "display_data"
    },
    {
     "data": {
      "application/vnd.jupyter.widget-view+json": {
       "model_id": "",
       "version_major": 2,
       "version_minor": 0
      },
      "text/plain": [
       "FloatProgress(value=0.0, bar_style='info', description='Progress:', layout=Layout(height='25px', width='50%'),…"
      ]
     },
     "metadata": {},
     "output_type": "display_data"
    },
    {
     "name": "stderr",
     "output_type": "stream",
     "text": [
      "An error was encountered:\n",
      "[UNRESOLVED_COLUMN.WITH_SUGGESTION] A column or function parameter with name `entities`.`hashtags`.`text` cannot be resolved. Did you mean one of the following? [`data`, `errors`, `includes`].;\n",
      "'Filter ((((((((((((((((((((((((((((((((((((((((((((((((((((((((((((((((((((((((((((((((((((((((((((((((array_contains('entities.hashtags.text, acolhimento) OR array_contains('entities.hashtags.text, Acolhimento)) OR array_contains('entities.hashtags.text, ACOLHIMENTO)) OR array_contains('entities.hashtags.text, aporofobia)) OR array_contains('entities.hashtags.text, Aporofobia)) OR array_contains('entities.hashtags.text, APOROFOBIA)) OR array_contains('entities.hashtags.text, brasilvaivirarvenezuela)) OR array_contains('entities.hashtags.text, Brasilvaivirarvenezuela)) OR array_contains('entities.hashtags.text, BrasilVaiVirarVenezuela)) OR array_contains('entities.hashtags.text, BRASILVAIVIRARVENEZUELA)) OR array_contains('entities.hashtags.text, crisehumanit?ria)) OR array_contains('entities.hashtags.text, Crisehumanit?ria)) OR array_contains('entities.hashtags.text, CriseHumanit?ria)) OR array_contains('entities.hashtags.text, CRISEHUMANIT?RIA)) OR array_contains('entities.hashtags.text, crisevenezuelana)) OR array_contains('entities.hashtags.text, Crisevenezuelana)) OR array_contains('entities.hashtags.text, CriseVenezuelana)) OR array_contains('entities.hashtags.text, CRISEVENEZUELANA)) OR array_contains('entities.hashtags.text, Discrimina??o)) OR array_contains('entities.hashtags.text, discrimina??o)) OR array_contains('entities.hashtags.text, DISCRIMINA??O)) OR array_contains('entities.hashtags.text, estere?tipo)) OR array_contains('entities.hashtags.text, Estere?tipo)) OR array_contains('entities.hashtags.text, ESTERE?TIPO)) OR array_contains('entities.hashtags.text, fronteira)) OR array_contains('entities.hashtags.text, Fronteira)) OR array_contains('entities.hashtags.text, FRONTEIRA)) OR array_contains('entities.hashtags.text, migrantes)) OR array_contains('entities.hashtags.text, Migrantes)) OR array_contains('entities.hashtags.text, MIGRANTES)) OR array_contains('entities.hashtags.text, preconceito)) OR array_contains('entities.hashtags.text, Preconceito)) OR array_contains('entities.hashtags.text, PRECONCEITO)) OR array_contains('entities.hashtags.text, refugiados)) OR array_contains('entities.hashtags.text, Refugiados)) OR array_contains('entities.hashtags.text, REFUGIADOS)) OR array_contains('entities.hashtags.text, roraizuela)) OR array_contains('entities.hashtags.text, Roraizuela)) OR array_contains('entities.hashtags.text, RORAIZUELA)) OR array_contains('entities.hashtags.text, venebrasil)) OR array_contains('entities.hashtags.text, Venebrasil)) OR array_contains('entities.hashtags.text, VeneBrasil)) OR array_contains('entities.hashtags.text, VENEBRASIL)) OR array_contains('entities.hashtags.text, venezuelanosnobrasil)) OR array_contains('entities.hashtags.text, Venezuelanosnobrasil)) OR array_contains('entities.hashtags.text, VenezuelanosNoBrasil)) OR array_contains('entities.hashtags.text, VENEZUELANOSNOBRASIL)) OR array_contains('entities.hashtags.text, venezuraima)) OR array_contains('entities.hashtags.text, Venezuraima)) OR array_contains('entities.hashtags.text, VENEZURAIMA)) OR array_contains('entities.hashtags.text, viol?ncia)) OR array_contains('entities.hashtags.text, Viol?ncia)) OR array_contains('entities.hashtags.text, VIOL?NCIA)) OR array_contains('entities.hashtags.text, xenofobia)) OR array_contains('entities.hashtags.text, Xenofobia)) OR array_contains('entities.hashtags.text, XENOFOBIA)) OR Contains(lower('text), amea?a)) OR Contains(lower('text), aporofobia)) OR Contains(lower('text), carga)) OR Contains(lower('text), conflito)) OR Contains(lower('text), crise)) OR Contains(lower('text), delinqu?ncia)) OR Contains(lower('text), desconfian?a)) OR Contains(lower('text), desemprego)) OR Contains(lower('text), desigualdade)) OR Contains(lower('text), desordem)) OR Contains(lower('text), direitos)) OR Contains(lower('text), discrimina??o)) OR Contains(lower('text), estigma)) OR Contains(lower('text), estrangeiro)) OR Contains(lower('text), exclus?o)) OR Contains(lower('text), fronteira)) OR Contains(lower('text), hostilidade)) OR Contains(lower('text), humanit?rio)) OR Contains(lower('text), identidade)) OR Contains(lower('text), inferior)) OR Contains(lower('text), intoler?ncia)) OR Contains(lower('text), invas?o)) OR Contains(lower('text), marginal)) OR Contains(lower('text), perigo)) OR Contains(lower('text), preconceito)) OR Contains(lower('text), problema)) OR Contains(lower('text), racismo)) OR Contains(lower('text), refugiada)) OR Contains(lower('text), refugiado)) OR Contains(lower('text), refugiados)) OR Contains(lower('text), rejei??o)) OR Contains(lower('text), roraizuela)) OR Contains(lower('text), venebrasil)) OR Contains(lower('text), venezuela)) OR Contains(lower('text), venezuelana)) OR Contains(lower('text), venezuelanas)) OR Contains(lower('text), venezuelano)) OR Contains(lower('text), venezuelanos)) OR Contains(lower('text), venezuraima)) OR Contains(lower('text), viol?ncia)) OR Contains(lower('text), xenofobia))\n",
      "+- Relation [data#8,errors#9,includes#10] json\n",
      "\n",
      "Traceback (most recent call last):\n",
      "  File \"/mnt1/yarn/usercache/livy/appcache/application_1720441205821_0001/container_1720441205821_0001_01_000001/pyspark.zip/pyspark/sql/dataframe.py\", line 3324, in filter\n",
      "    jdf = self._jdf.filter(condition._jc)\n",
      "  File \"/mnt1/yarn/usercache/livy/appcache/application_1720441205821_0001/container_1720441205821_0001_01_000001/py4j-0.10.9.7-src.zip/py4j/java_gateway.py\", line 1322, in __call__\n",
      "    return_value = get_return_value(\n",
      "  File \"/mnt1/yarn/usercache/livy/appcache/application_1720441205821_0001/container_1720441205821_0001_01_000001/pyspark.zip/pyspark/errors/exceptions/captured.py\", line 185, in deco\n",
      "    raise converted from None\n",
      "pyspark.errors.exceptions.captured.AnalysisException: [UNRESOLVED_COLUMN.WITH_SUGGESTION] A column or function parameter with name `entities`.`hashtags`.`text` cannot be resolved. Did you mean one of the following? [`data`, `errors`, `includes`].;\n",
      "'Filter ((((((((((((((((((((((((((((((((((((((((((((((((((((((((((((((((((((((((((((((((((((((((((((((((array_contains('entities.hashtags.text, acolhimento) OR array_contains('entities.hashtags.text, Acolhimento)) OR array_contains('entities.hashtags.text, ACOLHIMENTO)) OR array_contains('entities.hashtags.text, aporofobia)) OR array_contains('entities.hashtags.text, Aporofobia)) OR array_contains('entities.hashtags.text, APOROFOBIA)) OR array_contains('entities.hashtags.text, brasilvaivirarvenezuela)) OR array_contains('entities.hashtags.text, Brasilvaivirarvenezuela)) OR array_contains('entities.hashtags.text, BrasilVaiVirarVenezuela)) OR array_contains('entities.hashtags.text, BRASILVAIVIRARVENEZUELA)) OR array_contains('entities.hashtags.text, crisehumanit?ria)) OR array_contains('entities.hashtags.text, Crisehumanit?ria)) OR array_contains('entities.hashtags.text, CriseHumanit?ria)) OR array_contains('entities.hashtags.text, CRISEHUMANIT?RIA)) OR array_contains('entities.hashtags.text, crisevenezuelana)) OR array_contains('entities.hashtags.text, Crisevenezuelana)) OR array_contains('entities.hashtags.text, CriseVenezuelana)) OR array_contains('entities.hashtags.text, CRISEVENEZUELANA)) OR array_contains('entities.hashtags.text, Discrimina??o)) OR array_contains('entities.hashtags.text, discrimina??o)) OR array_contains('entities.hashtags.text, DISCRIMINA??O)) OR array_contains('entities.hashtags.text, estere?tipo)) OR array_contains('entities.hashtags.text, Estere?tipo)) OR array_contains('entities.hashtags.text, ESTERE?TIPO)) OR array_contains('entities.hashtags.text, fronteira)) OR array_contains('entities.hashtags.text, Fronteira)) OR array_contains('entities.hashtags.text, FRONTEIRA)) OR array_contains('entities.hashtags.text, migrantes)) OR array_contains('entities.hashtags.text, Migrantes)) OR array_contains('entities.hashtags.text, MIGRANTES)) OR array_contains('entities.hashtags.text, preconceito)) OR array_contains('entities.hashtags.text, Preconceito)) OR array_contains('entities.hashtags.text, PRECONCEITO)) OR array_contains('entities.hashtags.text, refugiados)) OR array_contains('entities.hashtags.text, Refugiados)) OR array_contains('entities.hashtags.text, REFUGIADOS)) OR array_contains('entities.hashtags.text, roraizuela)) OR array_contains('entities.hashtags.text, Roraizuela)) OR array_contains('entities.hashtags.text, RORAIZUELA)) OR array_contains('entities.hashtags.text, venebrasil)) OR array_contains('entities.hashtags.text, Venebrasil)) OR array_contains('entities.hashtags.text, VeneBrasil)) OR array_contains('entities.hashtags.text, VENEBRASIL)) OR array_contains('entities.hashtags.text, venezuelanosnobrasil)) OR array_contains('entities.hashtags.text, Venezuelanosnobrasil)) OR array_contains('entities.hashtags.text, VenezuelanosNoBrasil)) OR array_contains('entities.hashtags.text, VENEZUELANOSNOBRASIL)) OR array_contains('entities.hashtags.text, venezuraima)) OR array_contains('entities.hashtags.text, Venezuraima)) OR array_contains('entities.hashtags.text, VENEZURAIMA)) OR array_contains('entities.hashtags.text, viol?ncia)) OR array_contains('entities.hashtags.text, Viol?ncia)) OR array_contains('entities.hashtags.text, VIOL?NCIA)) OR array_contains('entities.hashtags.text, xenofobia)) OR array_contains('entities.hashtags.text, Xenofobia)) OR array_contains('entities.hashtags.text, XENOFOBIA)) OR Contains(lower('text), amea?a)) OR Contains(lower('text), aporofobia)) OR Contains(lower('text), carga)) OR Contains(lower('text), conflito)) OR Contains(lower('text), crise)) OR Contains(lower('text), delinqu?ncia)) OR Contains(lower('text), desconfian?a)) OR Contains(lower('text), desemprego)) OR Contains(lower('text), desigualdade)) OR Contains(lower('text), desordem)) OR Contains(lower('text), direitos)) OR Contains(lower('text), discrimina??o)) OR Contains(lower('text), estigma)) OR Contains(lower('text), estrangeiro)) OR Contains(lower('text), exclus?o)) OR Contains(lower('text), fronteira)) OR Contains(lower('text), hostilidade)) OR Contains(lower('text), humanit?rio)) OR Contains(lower('text), identidade)) OR Contains(lower('text), inferior)) OR Contains(lower('text), intoler?ncia)) OR Contains(lower('text), invas?o)) OR Contains(lower('text), marginal)) OR Contains(lower('text), perigo)) OR Contains(lower('text), preconceito)) OR Contains(lower('text), problema)) OR Contains(lower('text), racismo)) OR Contains(lower('text), refugiada)) OR Contains(lower('text), refugiado)) OR Contains(lower('text), refugiados)) OR Contains(lower('text), rejei??o)) OR Contains(lower('text), roraizuela)) OR Contains(lower('text), venebrasil)) OR Contains(lower('text), venezuela)) OR Contains(lower('text), venezuelana)) OR Contains(lower('text), venezuelanas)) OR Contains(lower('text), venezuelano)) OR Contains(lower('text), venezuelanos)) OR Contains(lower('text), venezuraima)) OR Contains(lower('text), viol?ncia)) OR Contains(lower('text), xenofobia))\n",
      "+- Relation [data#8,errors#9,includes#10] json\n",
      "\n",
      "\n"
     ]
    }
   ],
   "source": [
    "# Define the list of hashtags for DataFrame filtering\n",
    "hashtags = [\n",
    "    'acolhimento', \n",
    "    'Acolhimento', \n",
    "    'ACOLHIMENTO', \n",
    "    'aporofobia', \n",
    "    'Aporofobia', \n",
    "    'APOROFOBIA', \n",
    "    'brasilvaivirarvenezuela', \n",
    "    'Brasilvaivirarvenezuela', \n",
    "    'BrasilVaiVirarVenezuela', \n",
    "    'BRASILVAIVIRARVENEZUELA', \n",
    "    'crisehumanitária', \n",
    "    'Crisehumanitária', \n",
    "    'CriseHumanitária', \n",
    "    'CRISEHUMANITÁRIA', \n",
    "    'crisevenezuelana', \n",
    "    'Crisevenezuelana', \n",
    "    'CriseVenezuelana', \n",
    "    'CRISEVENEZUELANA', \n",
    "    'Discriminação', \n",
    "    'discriminação', \n",
    "    'DISCRIMINAÇÃO', \n",
    "    'estereótipo', \n",
    "    'Estereótipo', \n",
    "    'ESTEREÓTIPO', \n",
    "    'fronteira', \n",
    "    'Fronteira', \n",
    "    'FRONTEIRA', \n",
    "    'migrantes', \n",
    "    'Migrantes', \n",
    "    'MIGRANTES', \n",
    "    'preconceito', \n",
    "    'Preconceito', \n",
    "    'PRECONCEITO', \n",
    "    'refugiados', \n",
    "    'Refugiados', \n",
    "    'REFUGIADOS', \n",
    "    'roraizuela', \n",
    "    'Roraizuela', \n",
    "    'RORAIZUELA', \n",
    "    'venebrasil', \n",
    "    'Venebrasil', \n",
    "    'VeneBrasil', \n",
    "    'VENEBRASIL', \n",
    "    'venezuelanosnobrasil', \n",
    "    'Venezuelanosnobrasil', \n",
    "    'VenezuelanosNoBrasil', \n",
    "    'VENEZUELANOSNOBRASIL', \n",
    "    'venezuraima', \n",
    "    'Venezuraima', \n",
    "    'VENEZURAIMA', \n",
    "    'violência', \n",
    "    'Violência', \n",
    "    'VIOLÊNCIA', \n",
    "    'xenofobia', \n",
    "    'Xenofobia', \n",
    "    'XENOFOBIA'\n",
    "]\n",
    "\n",
    "expressions = [\n",
    "    'ameaça', \n",
    "    'aporofobia', \n",
    "    'carga', \n",
    "    'conflito', \n",
    "    'crise', \n",
    "    'delinquência', \n",
    "    'desconfiança', \n",
    "    'desemprego', \n",
    "    'desigualdade', \n",
    "    'desordem', \n",
    "    'direitos', \n",
    "    'discriminação', \n",
    "    'estigma', \n",
    "    'estrangeiro', \n",
    "    'exclusão', \n",
    "    'fronteira',  \n",
    "    'hostilidade', \n",
    "    'humanitário', \n",
    "    'identidade', \n",
    "    'inferior', \n",
    "    'intolerância', \n",
    "    'invasão', \n",
    "    'marginal', \n",
    "    'perigo', \n",
    "    'preconceito', \n",
    "    'problema', \n",
    "    'racismo', \n",
    "    'refugiada', \n",
    "    'refugiado', \n",
    "    'refugiados', \n",
    "    'rejeição', \n",
    "    'roraizuela', \n",
    "    'venebrasil', \n",
    "    'venezuela', \n",
    "    'venezuelana', \n",
    "    'venezuelanas', \n",
    "    'venezuelano', \n",
    "    'venezuelanos', \n",
    "    'venezuraima', \n",
    "    'violência', \n",
    "    'xenofobia'\n",
    "]\n",
    "\n",
    "# Create a filtered DataFrame\n",
    "filtered_tweets_spark_df = tweets_spark_df.filter(\n",
    "    array_contains('entities.hashtags.text', hashtags[0]) |\\\n",
    "    array_contains('entities.hashtags.text', hashtags[1]) |\\\n",
    "    array_contains('entities.hashtags.text', hashtags[2]) |\\\n",
    "    array_contains('entities.hashtags.text', hashtags[3]) |\\\n",
    "    array_contains('entities.hashtags.text', hashtags[4]) |\\\n",
    "    array_contains('entities.hashtags.text', hashtags[5]) |\\\n",
    "    array_contains('entities.hashtags.text', hashtags[6]) |\\\n",
    "    array_contains('entities.hashtags.text', hashtags[7]) |\\\n",
    "    array_contains('entities.hashtags.text', hashtags[8]) |\\\n",
    "    array_contains('entities.hashtags.text', hashtags[9]) |\\\n",
    "    array_contains('entities.hashtags.text', hashtags[10]) |\\\n",
    "    array_contains('entities.hashtags.text', hashtags[11]) |\\\n",
    "    array_contains('entities.hashtags.text', hashtags[12]) |\\\n",
    "    array_contains('entities.hashtags.text', hashtags[13]) |\\\n",
    "    array_contains('entities.hashtags.text', hashtags[14]) |\\\n",
    "    array_contains('entities.hashtags.text', hashtags[15]) |\\\n",
    "    array_contains('entities.hashtags.text', hashtags[16]) |\\\n",
    "    array_contains('entities.hashtags.text', hashtags[17]) |\\\n",
    "    array_contains('entities.hashtags.text', hashtags[18]) |\\\n",
    "    array_contains('entities.hashtags.text', hashtags[19]) |\\\n",
    "    array_contains('entities.hashtags.text', hashtags[20]) |\\\n",
    "    array_contains('entities.hashtags.text', hashtags[21]) |\\\n",
    "    array_contains('entities.hashtags.text', hashtags[22]) |\\\n",
    "    array_contains('entities.hashtags.text', hashtags[23]) |\\\n",
    "    array_contains('entities.hashtags.text', hashtags[24]) |\\\n",
    "    array_contains('entities.hashtags.text', hashtags[25]) |\\\n",
    "    array_contains('entities.hashtags.text', hashtags[26]) |\\\n",
    "    array_contains('entities.hashtags.text', hashtags[27]) |\\\n",
    "    array_contains('entities.hashtags.text', hashtags[28]) |\\\n",
    "    array_contains('entities.hashtags.text', hashtags[29]) |\\\n",
    "    array_contains('entities.hashtags.text', hashtags[30]) |\\\n",
    "    array_contains('entities.hashtags.text', hashtags[31]) |\\\n",
    "    array_contains('entities.hashtags.text', hashtags[32]) |\\\n",
    "    array_contains('entities.hashtags.text', hashtags[33]) |\\\n",
    "    array_contains('entities.hashtags.text', hashtags[34]) |\\\n",
    "    array_contains('entities.hashtags.text', hashtags[35]) |\\\n",
    "    array_contains('entities.hashtags.text', hashtags[36]) |\\\n",
    "    array_contains('entities.hashtags.text', hashtags[37]) |\\\n",
    "    array_contains('entities.hashtags.text', hashtags[38]) |\\\n",
    "    array_contains('entities.hashtags.text', hashtags[39]) |\\\n",
    "    array_contains('entities.hashtags.text', hashtags[40]) |\\\n",
    "    array_contains('entities.hashtags.text', hashtags[41]) |\\\n",
    "    array_contains('entities.hashtags.text', hashtags[42]) |\\\n",
    "    array_contains('entities.hashtags.text', hashtags[43]) |\\\n",
    "    array_contains('entities.hashtags.text', hashtags[44]) |\\\n",
    "    array_contains('entities.hashtags.text', hashtags[45]) |\\\n",
    "    array_contains('entities.hashtags.text', hashtags[46]) |\\\n",
    "    array_contains('entities.hashtags.text', hashtags[47]) |\\\n",
    "    array_contains('entities.hashtags.text', hashtags[48]) |\\\n",
    "    array_contains('entities.hashtags.text', hashtags[49]) |\\\n",
    "    array_contains('entities.hashtags.text', hashtags[50]) |\\\n",
    "    array_contains('entities.hashtags.text', hashtags[51]) |\\\n",
    "    array_contains('entities.hashtags.text', hashtags[52]) |\\\n",
    "    array_contains('entities.hashtags.text', hashtags[53]) |\\\n",
    "    array_contains('entities.hashtags.text', hashtags[54]) |\\\n",
    "    array_contains('entities.hashtags.text', hashtags[55]) |\\\n",
    "    lower(col('text')).contains(expressions[0]) |\\\n",
    "    lower(col('text')).contains(expressions[1]) |\\\n",
    "    lower(col('text')).contains(expressions[2]) |\\\n",
    "    lower(col('text')).contains(expressions[3]) |\\\n",
    "    lower(col('text')).contains(expressions[4]) |\\\n",
    "    lower(col('text')).contains(expressions[5]) |\\\n",
    "    lower(col('text')).contains(expressions[6]) |\\\n",
    "    lower(col('text')).contains(expressions[7]) |\\\n",
    "    lower(col('text')).contains(expressions[8]) |\\\n",
    "    lower(col('text')).contains(expressions[9]) |\\\n",
    "    lower(col('text')).contains(expressions[10]) |\\\n",
    "    lower(col('text')).contains(expressions[11]) |\\\n",
    "    lower(col('text')).contains(expressions[12]) |\\\n",
    "    lower(col('text')).contains(expressions[13]) |\\\n",
    "    lower(col('text')).contains(expressions[14]) |\\\n",
    "    lower(col('text')).contains(expressions[15]) |\\\n",
    "    lower(col('text')).contains(expressions[16]) |\\\n",
    "    lower(col('text')).contains(expressions[17]) |\\\n",
    "    lower(col('text')).contains(expressions[18]) |\\\n",
    "    lower(col('text')).contains(expressions[19]) |\\\n",
    "    lower(col('text')).contains(expressions[20]) |\\\n",
    "    lower(col('text')).contains(expressions[21]) |\\\n",
    "    lower(col('text')).contains(expressions[22]) |\\\n",
    "    lower(col('text')).contains(expressions[23]) |\\\n",
    "    lower(col('text')).contains(expressions[24]) |\\\n",
    "    lower(col('text')).contains(expressions[25]) |\\\n",
    "    lower(col('text')).contains(expressions[26]) |\\\n",
    "    lower(col('text')).contains(expressions[27]) |\\\n",
    "    lower(col('text')).contains(expressions[28]) |\\\n",
    "    lower(col('text')).contains(expressions[29]) |\\\n",
    "    lower(col('text')).contains(expressions[30]) |\\\n",
    "    lower(col('text')).contains(expressions[31]) |\\\n",
    "    lower(col('text')).contains(expressions[32]) |\\\n",
    "    lower(col('text')).contains(expressions[33]) |\\\n",
    "    lower(col('text')).contains(expressions[34]) |\\\n",
    "    lower(col('text')).contains(expressions[35]) |\\\n",
    "    lower(col('text')).contains(expressions[36]) |\\\n",
    "    lower(col('text')).contains(expressions[37]) |\\\n",
    "    lower(col('text')).contains(expressions[38]) |\\\n",
    "    lower(col('text')).contains(expressions[39]) |\\\n",
    "    lower(col('text')).contains(expressions[40])\n",
    ")"
   ]
  },
  {
   "cell_type": "code",
   "execution_count": null,
   "id": "458be056-c1f1-4507-8817-ebaea1040f23",
   "metadata": {},
   "outputs": [],
   "source": []
  }
 ],
 "metadata": {
  "kernelspec": {
   "display_name": "PySpark",
   "language": "python",
   "name": "pysparkkernel"
  },
  "language_info": {
   "codemirror_mode": {
    "name": "python",
    "version": 3
   },
   "file_extension": ".py",
   "mimetype": "text/x-python",
   "name": "pyspark",
   "pygments_lexer": "python3"
  }
 },
 "nbformat": 4,
 "nbformat_minor": 5
}
