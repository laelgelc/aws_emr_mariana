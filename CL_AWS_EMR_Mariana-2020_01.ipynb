{
 "cells": [
  {
   "cell_type": "markdown",
   "metadata": {
    "jp-MarkdownHeadingCollapsed": true,
    "tags": []
   },
   "source": [
    "<center>\n",
    "<img src=\"https://laelgelcpublic.s3.sa-east-1.amazonaws.com/lael_50_years_narrow_white.png.no_years.400px_96dpi.png\" width=\"300\" alt=\"LAEL 50 years logo\">\n",
    "<h3>APPLIED LINGUISTICS GRADUATE PROGRAMME (LAEL)</h3>\n",
    "</center>\n",
    "<hr>"
   ]
  },
  {
   "cell_type": "markdown",
   "metadata": {},
   "source": [
    "# Hashtag assessment for year 2020 for Mariana's research project"
   ]
  },
  {
   "cell_type": "markdown",
   "metadata": {},
   "source": [
    "## Extract data with an Amazon EMR Apache Spark cluster"
   ]
  },
  {
   "cell_type": "markdown",
   "metadata": {},
   "source": [
    "### Load data into an Amazon EMR EMR Apache Spark DataFrame"
   ]
  },
  {
   "cell_type": "markdown",
   "metadata": {},
   "source": [
    "Adjust the data source accordingly."
   ]
  },
  {
   "cell_type": "code",
   "execution_count": 1,
   "metadata": {
    "execution": {
     "iopub.execute_input": "2024-01-15T19:48:14.720784Z",
     "iopub.status.busy": "2024-01-15T19:48:14.720443Z",
     "iopub.status.idle": "2024-01-15T19:49:24.449615Z",
     "shell.execute_reply": "2024-01-15T19:49:24.448915Z",
     "shell.execute_reply.started": "2024-01-15T19:48:14.720752Z"
    },
    "tags": []
   },
   "outputs": [
    {
     "data": {
      "application/vnd.jupyter.widget-view+json": {
       "model_id": "55e82c264f7d466cb46d26017f07dff3",
       "version_major": 2,
       "version_minor": 0
      },
      "text/plain": [
       "VBox()"
      ]
     },
     "metadata": {},
     "output_type": "display_data"
    },
    {
     "name": "stdout",
     "output_type": "stream",
     "text": [
      "Starting Spark application\n"
     ]
    },
    {
     "data": {
      "text/html": [
       "<table>\n<tbody><tr><th>ID</th><th>YARN Application ID</th><th>Kind</th><th>State</th><th>Spark UI</th><th>Driver log</th><th>User</th><th>Current session?</th></tr><tr><td>0</td><td>application_1705346607280_0001</td><td>pyspark</td><td>idle</td><td><a target=\"_blank\" href=\"http://ip-172-31-40-87.sa-east-1.compute.internal:20888/proxy/application_1705346607280_0001/\" class=\"emr-proxy-link j-SF2AKHW3V75A application_1705346607280_0001\" emr-resource=\"j-SF2AKHW3V75A\n\" application-id=\"application_1705346607280_0001\">Link</a></td><td><a target=\"_blank\" href=\"http://ip-172-31-44-71.sa-east-1.compute.internal:8042/node/containerlogs/container_1705346607280_0001_01_000001/livy\">Link</a></td><td>None</td><td>✔</td></tr></tbody></table>"
      ],
      "text/plain": [
       "<IPython.core.display.HTML object>"
      ]
     },
     "metadata": {},
     "output_type": "display_data"
    },
    {
     "data": {
      "application/vnd.jupyter.widget-view+json": {
       "model_id": "",
       "version_major": 2,
       "version_minor": 0
      },
      "text/plain": [
       "FloatProgress(value=0.0, bar_style='info', description='Progress:', layout=Layout(height='25px', width='50%'),…"
      ]
     },
     "metadata": {},
     "output_type": "display_data"
    },
    {
     "name": "stdout",
     "output_type": "stream",
     "text": [
      "SparkSession available as 'spark'.\n"
     ]
    },
    {
     "data": {
      "application/vnd.jupyter.widget-view+json": {
       "model_id": "",
       "version_major": 2,
       "version_minor": 0
      },
      "text/plain": [
       "FloatProgress(value=0.0, bar_style='info', description='Progress:', layout=Layout(height='25px', width='50%'),…"
      ]
     },
     "metadata": {},
     "output_type": "display_data"
    }
   ],
   "source": [
    "from pyspark.sql import SparkSession\n",
    "\n",
    "# Create a SparkSession\n",
    "spark = SparkSession.builder.appName('The Twitter Grab 2019 Corpus').getOrCreate()\n",
    "\n",
    "# Set the S3 bucket and folder paths\n",
    "source_bucket = 'laelgelcawsemrmariana'\n",
    "data_source = 's3://' + source_bucket + '/mari2020*.jsonl'\n",
    "\n",
    "# Read the JSONL files into a DataFrame\n",
    "tweets_spark_df = spark.read.json(data_source)\n"
   ]
  },
  {
   "cell_type": "code",
   "execution_count": 2,
   "metadata": {
    "execution": {
     "iopub.execute_input": "2024-01-15T19:50:58.711800Z",
     "iopub.status.busy": "2024-01-15T19:50:58.711580Z",
     "iopub.status.idle": "2024-01-15T19:51:12.084190Z",
     "shell.execute_reply": "2024-01-15T19:51:12.083524Z",
     "shell.execute_reply.started": "2024-01-15T19:50:58.711775Z"
    },
    "tags": []
   },
   "outputs": [
    {
     "data": {
      "application/vnd.jupyter.widget-view+json": {
       "model_id": "ff4940d5e88448aea5288cf975887f76",
       "version_major": 2,
       "version_minor": 0
      },
      "text/plain": [
       "VBox()"
      ]
     },
     "metadata": {},
     "output_type": "display_data"
    },
    {
     "data": {
      "application/vnd.jupyter.widget-view+json": {
       "model_id": "",
       "version_major": 2,
       "version_minor": 0
      },
      "text/plain": [
       "FloatProgress(value=0.0, bar_style='info', description='Progress:', layout=Layout(height='25px', width='50%'),…"
      ]
     },
     "metadata": {},
     "output_type": "display_data"
    },
    {
     "name": "stdout",
     "output_type": "stream",
     "text": [
      "97621"
     ]
    }
   ],
   "source": [
    "# Show the quantity of rows (tweets) of the DataFrame\n",
    "tweets_spark_df.count()"
   ]
  },
  {
   "cell_type": "markdown",
   "metadata": {},
   "source": [
    "### Count the hashtags in the DataFrame"
   ]
  },
  {
   "cell_type": "code",
   "execution_count": 3,
   "metadata": {
    "execution": {
     "iopub.execute_input": "2024-01-15T19:51:36.943725Z",
     "iopub.status.busy": "2024-01-15T19:51:36.943493Z",
     "iopub.status.idle": "2024-01-15T19:51:37.205356Z",
     "shell.execute_reply": "2024-01-15T19:51:37.204364Z",
     "shell.execute_reply.started": "2024-01-15T19:51:36.943697Z"
    }
   },
   "outputs": [
    {
     "data": {
      "application/vnd.jupyter.widget-view+json": {
       "model_id": "49469eb948a94cc1992193348660626a",
       "version_major": 2,
       "version_minor": 0
      },
      "text/plain": [
       "VBox()"
      ]
     },
     "metadata": {},
     "output_type": "display_data"
    },
    {
     "data": {
      "application/vnd.jupyter.widget-view+json": {
       "model_id": "",
       "version_major": 2,
       "version_minor": 0
      },
      "text/plain": [
       "FloatProgress(value=0.0, bar_style='info', description='Progress:', layout=Layout(height='25px', width='50%'),…"
      ]
     },
     "metadata": {},
     "output_type": "display_data"
    }
   ],
   "source": [
    "from pyspark.sql.functions import explode, count\n",
    "\n",
    "hashtags_df = tweets_spark_df.select(explode('entities.hashtags.text').alias('hashtag'))\n",
    "hashtags_count_df = hashtags_df.groupBy('hashtag').agg(count('*').alias('count'))\n"
   ]
  },
  {
   "cell_type": "code",
   "execution_count": 4,
   "metadata": {
    "execution": {
     "iopub.execute_input": "2024-01-15T19:51:51.711812Z",
     "iopub.status.busy": "2024-01-15T19:51:51.711569Z",
     "iopub.status.idle": "2024-01-15T19:51:59.016744Z",
     "shell.execute_reply": "2024-01-15T19:51:59.015968Z",
     "shell.execute_reply.started": "2024-01-15T19:51:51.711786Z"
    }
   },
   "outputs": [
    {
     "data": {
      "application/vnd.jupyter.widget-view+json": {
       "model_id": "d1596484c9a54ab28ae3f328027a48a3",
       "version_major": 2,
       "version_minor": 0
      },
      "text/plain": [
       "VBox()"
      ]
     },
     "metadata": {},
     "output_type": "display_data"
    },
    {
     "data": {
      "application/vnd.jupyter.widget-view+json": {
       "model_id": "",
       "version_major": 2,
       "version_minor": 0
      },
      "text/plain": [
       "FloatProgress(value=0.0, bar_style='info', description='Progress:', layout=Layout(height='25px', width='50%'),…"
      ]
     },
     "metadata": {},
     "output_type": "display_data"
    },
    {
     "name": "stdout",
     "output_type": "stream",
     "text": [
      "+--------------------+-----+\n",
      "|             hashtag|count|\n",
      "+--------------------+-----+\n",
      "|              online|    4|\n",
      "|      CubaPorLaSalud|   26|\n",
      "|10MUnidosYMoviliz...|    4|\n",
      "|              Thread|    1|\n",
      "|                  PC|    6|\n",
      "|           bienestar|    2|\n",
      "|              Canadá|   13|\n",
      "|            Economia|   11|\n",
      "|              Rublos|    4|\n",
      "|GanamosConLaPreve...|    1|\n",
      "|                 MSM|    1|\n",
      "|         AnticipoIVA|    1|\n",
      "|            mountain|    1|\n",
      "|   CuarentenaEsSalud|    7|\n",
      "|            PetroApp|    9|\n",
      "|     ChávezNoVolverá|    1|\n",
      "|            PanikYok|    1|\n",
      "|            estetica|    2|\n",
      "|               Suiza|   25|\n",
      "|             caracas|  212|\n",
      "+--------------------+-----+\n",
      "only showing top 20 rows"
     ]
    }
   ],
   "source": [
    "# Show the first few rows of the Hashtags DataFrame\n",
    "hashtags_count_df.show()"
   ]
  },
  {
   "cell_type": "code",
   "execution_count": 5,
   "metadata": {
    "execution": {
     "iopub.execute_input": "2024-01-15T19:52:46.405369Z",
     "iopub.status.busy": "2024-01-15T19:52:46.405150Z",
     "iopub.status.idle": "2024-01-15T19:52:51.714134Z",
     "shell.execute_reply": "2024-01-15T19:52:51.713354Z",
     "shell.execute_reply.started": "2024-01-15T19:52:46.405343Z"
    },
    "tags": []
   },
   "outputs": [
    {
     "data": {
      "application/vnd.jupyter.widget-view+json": {
       "model_id": "d73bc0366bc34d9f8769a33bfc3d62d5",
       "version_major": 2,
       "version_minor": 0
      },
      "text/plain": [
       "VBox()"
      ]
     },
     "metadata": {},
     "output_type": "display_data"
    },
    {
     "data": {
      "application/vnd.jupyter.widget-view+json": {
       "model_id": "",
       "version_major": 2,
       "version_minor": 0
      },
      "text/plain": [
       "FloatProgress(value=0.0, bar_style='info', description='Progress:', layout=Layout(height='25px', width='50%'),…"
      ]
     },
     "metadata": {},
     "output_type": "display_data"
    },
    {
     "name": "stdout",
     "output_type": "stream",
     "text": [
      "16200"
     ]
    }
   ],
   "source": [
    "# Show the quantity of rows (hashtags) of the DataFrame\n",
    "hashtags_count_df.count()"
   ]
  },
  {
   "cell_type": "markdown",
   "metadata": {},
   "source": [
    "Adjust the output path accordingly."
   ]
  },
  {
   "cell_type": "code",
   "execution_count": 6,
   "metadata": {
    "execution": {
     "iopub.execute_input": "2024-01-15T19:53:20.023578Z",
     "iopub.status.busy": "2024-01-15T19:53:20.023339Z",
     "iopub.status.idle": "2024-01-15T19:53:25.315068Z",
     "shell.execute_reply": "2024-01-15T19:53:25.314294Z",
     "shell.execute_reply.started": "2024-01-15T19:53:20.023549Z"
    }
   },
   "outputs": [
    {
     "data": {
      "application/vnd.jupyter.widget-view+json": {
       "model_id": "490f4bbaf7a24b8b89e9ba5c2a875925",
       "version_major": 2,
       "version_minor": 0
      },
      "text/plain": [
       "VBox()"
      ]
     },
     "metadata": {},
     "output_type": "display_data"
    },
    {
     "data": {
      "application/vnd.jupyter.widget-view+json": {
       "model_id": "",
       "version_major": 2,
       "version_minor": 0
      },
      "text/plain": [
       "FloatProgress(value=0.0, bar_style='info', description='Progress:', layout=Layout(height='25px', width='50%'),…"
      ]
     },
     "metadata": {},
     "output_type": "display_data"
    }
   ],
   "source": [
    "# Export the Hashtags DataFrame to CSV format\n",
    "output_path = 's3://laelgelcawsemrmariana/hashtags_2020.csv'\n",
    "hashtags_count_df.write.mode('overwrite').csv(output_path)\n"
   ]
  },
  {
   "cell_type": "code",
   "execution_count": null,
   "metadata": {},
   "outputs": [],
   "source": []
  }
 ],
 "metadata": {
  "kernelspec": {
   "display_name": "PySpark",
   "language": "python",
   "name": "pysparkkernel"
  },
  "language_info": {
   "codemirror_mode": {
    "name": "python",
    "version": 3
   },
   "file_extension": ".py",
   "mimetype": "text/x-python",
   "name": "pyspark",
   "pygments_lexer": "python3"
  }
 },
 "nbformat": 4,
 "nbformat_minor": 4
}
