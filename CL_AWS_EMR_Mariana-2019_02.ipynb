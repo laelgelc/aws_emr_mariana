{
 "cells": [
  {
   "cell_type": "markdown",
   "metadata": {
    "jp-MarkdownHeadingCollapsed": true,
    "tags": []
   },
   "source": [
    "<center>\n",
    "<img src=\"https://laelgelcpublic.s3.sa-east-1.amazonaws.com/lael_50_years_narrow_white.png.no_years.400px_96dpi.png\" width=\"300\" alt=\"LAEL 50 years logo\">\n",
    "<h3>APPLIED LINGUISTICS GRADUATE PROGRAMME (LAEL)</h3>\n",
    "</center>\n",
    "<hr>"
   ]
  },
  {
   "cell_type": "markdown",
   "metadata": {},
   "source": [
    "# Hashtag assessment for year 2019 for Mariana's research project"
   ]
  },
  {
   "cell_type": "markdown",
   "metadata": {},
   "source": [
    "## Extract data with an Amazon EMR Apache Spark cluster"
   ]
  },
  {
   "cell_type": "markdown",
   "metadata": {},
   "source": [
    "### Load data into an Amazon EMR EMR Apache Spark DataFrame"
   ]
  },
  {
   "cell_type": "markdown",
   "metadata": {},
   "source": [
    "Adjust the data source accordingly."
   ]
  },
  {
   "cell_type": "code",
   "execution_count": 1,
   "metadata": {
    "execution": {
     "iopub.execute_input": "2023-12-26T19:29:37.186649Z",
     "iopub.status.busy": "2023-12-26T19:29:37.186302Z",
     "iopub.status.idle": "2023-12-26T19:30:31.247662Z",
     "shell.execute_reply": "2023-12-26T19:30:31.246778Z",
     "shell.execute_reply.started": "2023-12-26T19:29:37.186617Z"
    },
    "tags": []
   },
   "outputs": [
    {
     "data": {
      "application/vnd.jupyter.widget-view+json": {
       "model_id": "70c8a5bdb23f46258f385fc434bc7e11",
       "version_major": 2,
       "version_minor": 0
      },
      "text/plain": [
       "VBox()"
      ]
     },
     "metadata": {},
     "output_type": "display_data"
    },
    {
     "name": "stdout",
     "output_type": "stream",
     "text": [
      "Starting Spark application\n"
     ]
    },
    {
     "data": {
      "text/html": [
       "<table>\n<tbody><tr><th>ID</th><th>YARN Application ID</th><th>Kind</th><th>State</th><th>Spark UI</th><th>Driver log</th><th>User</th><th>Current session?</th></tr><tr><td>1</td><td>application_1703616555126_0002</td><td>pyspark</td><td>idle</td><td><a target=\"_blank\" href=\"http://ip-172-31-45-45.sa-east-1.compute.internal:20888/proxy/application_1703616555126_0002/\" class=\"emr-proxy-link j-3FBIA4XFQP6W1 application_1703616555126_0002\" emr-resource=\"j-3FBIA4XFQP6W1\n\" application-id=\"application_1703616555126_0002\">Link</a></td><td><a target=\"_blank\" href=\"http://ip-172-31-46-181.sa-east-1.compute.internal:8042/node/containerlogs/container_1703616555126_0002_01_000001/livy\">Link</a></td><td>None</td><td>✔</td></tr></tbody></table>"
      ],
      "text/plain": [
       "<IPython.core.display.HTML object>"
      ]
     },
     "metadata": {},
     "output_type": "display_data"
    },
    {
     "data": {
      "application/vnd.jupyter.widget-view+json": {
       "model_id": "",
       "version_major": 2,
       "version_minor": 0
      },
      "text/plain": [
       "FloatProgress(value=0.0, bar_style='info', description='Progress:', layout=Layout(height='25px', width='50%'),…"
      ]
     },
     "metadata": {},
     "output_type": "display_data"
    },
    {
     "name": "stdout",
     "output_type": "stream",
     "text": [
      "SparkSession available as 'spark'.\n"
     ]
    },
    {
     "data": {
      "application/vnd.jupyter.widget-view+json": {
       "model_id": "",
       "version_major": 2,
       "version_minor": 0
      },
      "text/plain": [
       "FloatProgress(value=0.0, bar_style='info', description='Progress:', layout=Layout(height='25px', width='50%'),…"
      ]
     },
     "metadata": {},
     "output_type": "display_data"
    }
   ],
   "source": [
    "from pyspark.sql import SparkSession\n",
    "\n",
    "# Create a SparkSession\n",
    "spark = SparkSession.builder.appName('The Twitter Grab 2019 Corpus').getOrCreate()\n",
    "\n",
    "# Set the S3 bucket and folder paths\n",
    "source_bucket = 'laelgelcawsemrmariana'\n",
    "data_source = 's3://' + source_bucket + '/*.jsonl'\n",
    "\n",
    "# Read the JSONL files into a DataFrame\n",
    "tweets_spark_df = spark.read.json(data_source)\n"
   ]
  },
  {
   "cell_type": "code",
   "execution_count": 2,
   "metadata": {
    "execution": {
     "iopub.execute_input": "2023-12-26T19:30:56.661210Z",
     "iopub.status.busy": "2023-12-26T19:30:56.660984Z",
     "iopub.status.idle": "2023-12-26T19:31:07.991680Z",
     "shell.execute_reply": "2023-12-26T19:31:07.990540Z",
     "shell.execute_reply.started": "2023-12-26T19:30:56.661187Z"
    },
    "tags": []
   },
   "outputs": [
    {
     "data": {
      "application/vnd.jupyter.widget-view+json": {
       "model_id": "6b9e73e3c39b493ba2ed386327c0b542",
       "version_major": 2,
       "version_minor": 0
      },
      "text/plain": [
       "VBox()"
      ]
     },
     "metadata": {},
     "output_type": "display_data"
    },
    {
     "data": {
      "application/vnd.jupyter.widget-view+json": {
       "model_id": "",
       "version_major": 2,
       "version_minor": 0
      },
      "text/plain": [
       "FloatProgress(value=0.0, bar_style='info', description='Progress:', layout=Layout(height='25px', width='50%'),…"
      ]
     },
     "metadata": {},
     "output_type": "display_data"
    },
    {
     "name": "stdout",
     "output_type": "stream",
     "text": [
      "240450"
     ]
    }
   ],
   "source": [
    "# Show the quantity of rows (tweets) of the DataFrame\n",
    "tweets_spark_df.count()"
   ]
  },
  {
   "cell_type": "markdown",
   "metadata": {},
   "source": [
    "### Count the hashtags in the DataFrame"
   ]
  },
  {
   "cell_type": "code",
   "execution_count": 3,
   "metadata": {
    "execution": {
     "iopub.execute_input": "2023-12-26T19:31:46.396044Z",
     "iopub.status.busy": "2023-12-26T19:31:46.395731Z",
     "iopub.status.idle": "2023-12-26T19:31:46.675074Z",
     "shell.execute_reply": "2023-12-26T19:31:46.674287Z",
     "shell.execute_reply.started": "2023-12-26T19:31:46.396015Z"
    }
   },
   "outputs": [
    {
     "data": {
      "application/vnd.jupyter.widget-view+json": {
       "model_id": "7751887f388a48b48d5b60bba8479057",
       "version_major": 2,
       "version_minor": 0
      },
      "text/plain": [
       "VBox()"
      ]
     },
     "metadata": {},
     "output_type": "display_data"
    },
    {
     "data": {
      "application/vnd.jupyter.widget-view+json": {
       "model_id": "",
       "version_major": 2,
       "version_minor": 0
      },
      "text/plain": [
       "FloatProgress(value=0.0, bar_style='info', description='Progress:', layout=Layout(height='25px', width='50%'),…"
      ]
     },
     "metadata": {},
     "output_type": "display_data"
    }
   ],
   "source": [
    "from pyspark.sql.functions import explode, count\n",
    "\n",
    "hashtags_df = tweets_spark_df.select(explode('entities.hashtags.text').alias('hashtag'))\n",
    "hashtags_count_df = hashtags_df.groupBy('hashtag').agg(count('*').alias('count'))\n"
   ]
  },
  {
   "cell_type": "code",
   "execution_count": 4,
   "metadata": {
    "execution": {
     "iopub.execute_input": "2023-12-26T19:32:02.215292Z",
     "iopub.status.busy": "2023-12-26T19:32:02.214922Z",
     "iopub.status.idle": "2023-12-26T19:32:15.551599Z",
     "shell.execute_reply": "2023-12-26T19:32:15.550877Z",
     "shell.execute_reply.started": "2023-12-26T19:32:02.215229Z"
    }
   },
   "outputs": [
    {
     "data": {
      "application/vnd.jupyter.widget-view+json": {
       "model_id": "5b5a76e5bf8944028a8d2986af5b9e6a",
       "version_major": 2,
       "version_minor": 0
      },
      "text/plain": [
       "VBox()"
      ]
     },
     "metadata": {},
     "output_type": "display_data"
    },
    {
     "data": {
      "application/vnd.jupyter.widget-view+json": {
       "model_id": "",
       "version_major": 2,
       "version_minor": 0
      },
      "text/plain": [
       "FloatProgress(value=0.0, bar_style='info', description='Progress:', layout=Layout(height='25px', width='50%'),…"
      ]
     },
     "metadata": {},
     "output_type": "display_data"
    },
    {
     "name": "stdout",
     "output_type": "stream",
     "text": [
      "+--------------------+-----+\n",
      "|             hashtag|count|\n",
      "+--------------------+-----+\n",
      "|        AlbertRivera|    1|\n",
      "|               10ENE|    1|\n",
      "|      venezuelateamo|    1|\n",
      "|                 FAV|    2|\n",
      "|         Springfield|    6|\n",
      "|            travesti|   35|\n",
      "|               vivir|    1|\n",
      "|          periodismo|    9|\n",
      "|venezuelaVenciend...|    4|\n",
      "|EntreChavistasNos...|   12|\n",
      "|           BuenLunes|   10|\n",
      "|               Savoy|   10|\n",
      "|                MAGA|   69|\n",
      "|              Padres|    4|\n",
      "|GuaidoVenezuelaEs...|    4|\n",
      "|            Economia|   22|\n",
      "|               julen|    1|\n",
      "|              Canadá|   99|\n",
      "|            9DeEnero|    2|\n",
      "|                RCTV|    6|\n",
      "+--------------------+-----+\n",
      "only showing top 20 rows"
     ]
    }
   ],
   "source": [
    "# Show the first few rows of the Hashtags DataFrame\n",
    "hashtags_count_df.show()"
   ]
  },
  {
   "cell_type": "code",
   "execution_count": 5,
   "metadata": {
    "execution": {
     "iopub.execute_input": "2023-12-26T19:32:24.521566Z",
     "iopub.status.busy": "2023-12-26T19:32:24.521311Z",
     "iopub.status.idle": "2023-12-26T19:32:35.867639Z",
     "shell.execute_reply": "2023-12-26T19:32:35.866696Z",
     "shell.execute_reply.started": "2023-12-26T19:32:24.521542Z"
    },
    "tags": []
   },
   "outputs": [
    {
     "data": {
      "application/vnd.jupyter.widget-view+json": {
       "model_id": "1c439c90ae994b9da9ded0021369cbc4",
       "version_major": 2,
       "version_minor": 0
      },
      "text/plain": [
       "VBox()"
      ]
     },
     "metadata": {},
     "output_type": "display_data"
    },
    {
     "data": {
      "application/vnd.jupyter.widget-view+json": {
       "model_id": "",
       "version_major": 2,
       "version_minor": 0
      },
      "text/plain": [
       "FloatProgress(value=0.0, bar_style='info', description='Progress:', layout=Layout(height='25px', width='50%'),…"
      ]
     },
     "metadata": {},
     "output_type": "display_data"
    },
    {
     "name": "stdout",
     "output_type": "stream",
     "text": [
      "24529"
     ]
    }
   ],
   "source": [
    "# Show the quantity of rows (hashtags) of the DataFrame\n",
    "hashtags_count_df.count()"
   ]
  },
  {
   "cell_type": "markdown",
   "metadata": {},
   "source": [
    "Adjust the output path accordingly."
   ]
  },
  {
   "cell_type": "code",
   "execution_count": 6,
   "metadata": {
    "execution": {
     "iopub.execute_input": "2023-12-26T19:33:37.561110Z",
     "iopub.status.busy": "2023-12-26T19:33:37.560857Z",
     "iopub.status.idle": "2023-12-26T19:34:02.937301Z",
     "shell.execute_reply": "2023-12-26T19:34:02.936184Z",
     "shell.execute_reply.started": "2023-12-26T19:33:37.561086Z"
    }
   },
   "outputs": [
    {
     "data": {
      "application/vnd.jupyter.widget-view+json": {
       "model_id": "e576cd3978034189b8d4215321bca316",
       "version_major": 2,
       "version_minor": 0
      },
      "text/plain": [
       "VBox()"
      ]
     },
     "metadata": {},
     "output_type": "display_data"
    },
    {
     "data": {
      "application/vnd.jupyter.widget-view+json": {
       "model_id": "",
       "version_major": 2,
       "version_minor": 0
      },
      "text/plain": [
       "FloatProgress(value=0.0, bar_style='info', description='Progress:', layout=Layout(height='25px', width='50%'),…"
      ]
     },
     "metadata": {},
     "output_type": "display_data"
    }
   ],
   "source": [
    "# Export the Hashtags DataFrame to CSV format\n",
    "output_path = 's3://laelgelcawsemrmariana/hashtags_2019.csv'\n",
    "hashtags_count_df.write.mode('overwrite').csv(output_path)\n"
   ]
  },
  {
   "cell_type": "code",
   "execution_count": null,
   "metadata": {},
   "outputs": [],
   "source": []
  }
 ],
 "metadata": {
  "kernelspec": {
   "display_name": "PySpark",
   "language": "python",
   "name": "pysparkkernel"
  },
  "language_info": {
   "codemirror_mode": {
    "name": "python",
    "version": 3
   },
   "file_extension": ".py",
   "mimetype": "text/x-python",
   "name": "pyspark",
   "pygments_lexer": "python3"
  }
 },
 "nbformat": 4,
 "nbformat_minor": 4
}
